{
  "nbformat": 4,
  "nbformat_minor": 0,
  "metadata": {
    "kernelspec": {
      "display_name": "Python 3",
      "language": "python",
      "name": "python3"
    },
    "language_info": {
      "codemirror_mode": {
        "name": "ipython",
        "version": 3
      },
      "file_extension": ".py",
      "mimetype": "text/x-python",
      "name": "python",
      "nbconvert_exporter": "python",
      "pygments_lexer": "ipython3",
      "version": "3.7.3"
    },
    "colab": {
      "name": "Copia de Regresión Logística y Naive Bayes.ipynb",
      "provenance": [],
      "collapsed_sections": [
        "pJfrJCY5kZpp"
      ],
      "include_colab_link": true
    }
  },
  "cells": [
    {
      "cell_type": "markdown",
      "metadata": {
        "id": "view-in-github",
        "colab_type": "text"
      },
      "source": [
        "<a href=\"https://colab.research.google.com/github/candelarobledof/parkinson/blob/main/Copia_de_Regresi%C3%B3n_Log%C3%ADstica_y_Naive_Bayes.ipynb\" target=\"_parent\"><img src=\"https://colab.research.google.com/assets/colab-badge.svg\" alt=\"Open In Colab\"/></a>"
      ]
    },
    {
      "cell_type": "code",
      "metadata": {
        "id": "mgVxfO6fkZpd"
      },
      "source": [
        "import pandas as pd\n",
        "import seaborn as sns\n",
        "import numpy as np\n",
        "import matplotlib.pyplot as plt\n",
        "from pandas.plotting import scatter_matrix\n",
        "%matplotlib inline"
      ],
      "execution_count": 127,
      "outputs": []
    },
    {
      "cell_type": "code",
      "metadata": {
        "id": "CXUvK6fxkZpi"
      },
      "source": [
        "df=pd.read_csv(\"becarios.csv\")\n",
        "df2=pd.read_csv('basests.csv')"
      ],
      "execution_count": 128,
      "outputs": []
    },
    {
      "cell_type": "markdown",
      "metadata": {
        "id": "fi_kIVR4kZpm"
      },
      "source": [
        "Modifico categoricas a dummies:"
      ]
    },
    {
      "cell_type": "code",
      "metadata": {
        "id": "weX4B14pkZpn"
      },
      "source": [
        "df['professional-diagnosis'].replace(False,0, inplace=True)\n",
        "df['professional-diagnosis'].replace(True,1, inplace=True)"
      ],
      "execution_count": 129,
      "outputs": []
    },
    {
      "cell_type": "code",
      "metadata": {
        "id": "8zCti2EIGdj3"
      },
      "source": [
        "df = pd.get_dummies(df, columns = [\"gender\",\"are-caretaker\",\"deep-brain-stimulation\",\"medical-usage-yesterday\",\"past-participation\"\n",
        "                                    ,\"phone-usage\",\"smoked\",\"surgery\",\"video-usage\"], drop_first = True)"
      ],
      "execution_count": 130,
      "outputs": []
    },
    {
      "cell_type": "code",
      "metadata": {
        "colab": {
          "base_uri": "https://localhost:8080/",
          "height": 158
        },
        "id": "E2LXQpRHkZpl",
        "outputId": "20bf21ce-7e3f-4bec-a1fd-66cebf1849b8"
      },
      "source": [
        "print(df2.shape)\n",
        "df2.head(3)"
      ],
      "execution_count": 131,
      "outputs": [
        {
          "output_type": "stream",
          "text": [
            "(2218, 11)\n"
          ],
          "name": "stdout"
        },
        {
          "output_type": "execute_result",
          "data": {
            "text/html": [
              "<div>\n",
              "<style scoped>\n",
              "    .dataframe tbody tr th:only-of-type {\n",
              "        vertical-align: middle;\n",
              "    }\n",
              "\n",
              "    .dataframe tbody tr th {\n",
              "        vertical-align: top;\n",
              "    }\n",
              "\n",
              "    .dataframe thead th {\n",
              "        text-align: right;\n",
              "    }\n",
              "</style>\n",
              "<table border=\"1\" class=\"dataframe\">\n",
              "  <thead>\n",
              "    <tr style=\"text-align: right;\">\n",
              "      <th></th>\n",
              "      <th>ROW_ID</th>\n",
              "      <th>age</th>\n",
              "      <th>EdadR</th>\n",
              "      <th>DIAGNOSTICO</th>\n",
              "      <th>M_POINT</th>\n",
              "      <th>SEX</th>\n",
              "      <th>d1</th>\n",
              "      <th>d2</th>\n",
              "      <th>d3</th>\n",
              "      <th>d4</th>\n",
              "      <th>d5</th>\n",
              "    </tr>\n",
              "  </thead>\n",
              "  <tbody>\n",
              "    <tr>\n",
              "      <th>0</th>\n",
              "      <td>24665</td>\n",
              "      <td>71</td>\n",
              "      <td>70</td>\n",
              "      <td>1</td>\n",
              "      <td>1.0</td>\n",
              "      <td>1.0</td>\n",
              "      <td>35.23343</td>\n",
              "      <td>-178.8503</td>\n",
              "      <td>0.374910</td>\n",
              "      <td>0.096570</td>\n",
              "      <td>0.032114</td>\n",
              "    </tr>\n",
              "    <tr>\n",
              "      <th>1</th>\n",
              "      <td>21472</td>\n",
              "      <td>48</td>\n",
              "      <td>45</td>\n",
              "      <td>0</td>\n",
              "      <td>0.0</td>\n",
              "      <td>2.0</td>\n",
              "      <td>35.06466</td>\n",
              "      <td>-177.2032</td>\n",
              "      <td>0.379995</td>\n",
              "      <td>0.115948</td>\n",
              "      <td>0.024917</td>\n",
              "    </tr>\n",
              "    <tr>\n",
              "      <th>2</th>\n",
              "      <td>25155</td>\n",
              "      <td>73</td>\n",
              "      <td>70</td>\n",
              "      <td>1</td>\n",
              "      <td>1.0</td>\n",
              "      <td>2.0</td>\n",
              "      <td>53.76691</td>\n",
              "      <td>-178.8864</td>\n",
              "      <td>0.359551</td>\n",
              "      <td>0.109389</td>\n",
              "      <td>0.058175</td>\n",
              "    </tr>\n",
              "  </tbody>\n",
              "</table>\n",
              "</div>"
            ],
            "text/plain": [
              "   ROW_ID  age  EdadR  DIAGNOSTICO  ...        d2        d3        d4        d5\n",
              "0   24665   71     70            1  ... -178.8503  0.374910  0.096570  0.032114\n",
              "1   21472   48     45            0  ... -177.2032  0.379995  0.115948  0.024917\n",
              "2   25155   73     70            1  ... -178.8864  0.359551  0.109389  0.058175\n",
              "\n",
              "[3 rows x 11 columns]"
            ]
          },
          "metadata": {
            "tags": []
          },
          "execution_count": 131
        }
      ]
    },
    {
      "cell_type": "markdown",
      "metadata": {
        "id": "xJyMrP5TkZpo"
      },
      "source": [
        "# Merge"
      ]
    },
    {
      "cell_type": "code",
      "metadata": {
        "scrolled": true,
        "colab": {
          "base_uri": "https://localhost:8080/"
        },
        "id": "MAuEZVfSkZpo",
        "outputId": "e7274cd7-e24e-496c-8b1f-1e81dcaf8b1d"
      },
      "source": [
        "#en el merge, las columnas repetidas de cada tabla van a ser repetidas pero con el indicador age_x y age_y\n",
        "df_merged = pd.merge(left=df, right=df2, left_on='ROW_ID2', right_on='ROW_ID')\n",
        "print(df_merged.shape)"
      ],
      "execution_count": 132,
      "outputs": [
        {
          "output_type": "stream",
          "text": [
            "(2476, 149)\n"
          ],
          "name": "stdout"
        }
      ]
    },
    {
      "cell_type": "code",
      "metadata": {
        "colab": {
          "base_uri": "https://localhost:8080/"
        },
        "id": "-Oj-bttK46M8",
        "outputId": "4d4e9c2b-263d-4d1f-98eb-03460209c156"
      },
      "source": [
        "df_merged[\"education\"].value_counts() #tema1"
      ],
      "execution_count": 133,
      "outputs": [
        {
          "output_type": "execute_result",
          "data": {
            "text/plain": [
              "4-year college degree      635\n",
              "Masters Degree             631\n",
              "Some college               389\n",
              "Doctoral Degree            330\n",
              "Some graduate school       187\n",
              "2-year college degree      149\n",
              "High School Diploma/GED    133\n",
              "Some high school            15\n",
              "Name: education, dtype: int64"
            ]
          },
          "metadata": {
            "tags": []
          },
          "execution_count": 133
        }
      ]
    },
    {
      "cell_type": "code",
      "metadata": {
        "colab": {
          "base_uri": "https://localhost:8080/"
        },
        "id": "PfugLJ_25FM5",
        "outputId": "29e24120-82a0-48e6-e1ea-8c382925fb7b"
      },
      "source": [
        "df_merged.isnull().sum().sort_values(ascending=True) #tema2"
      ],
      "execution_count": 134,
      "outputs": [
        {
          "output_type": "execute_result",
          "data": {
            "text/plain": [
              "recordId1                         0\n",
              "ROW_VERSION2                      0\n",
              "d4                                0\n",
              "StddevUnvoicedSegmentLength       0\n",
              "MeanUnvoicedSegmentLength         0\n",
              "                               ... \n",
              "GELTQ-2                        1220\n",
              "diagnosis-year                 1307\n",
              "years-smoking                  1653\n",
              "last-smoked                    1665\n",
              "packs-per-day                  1762\n",
              "Length: 149, dtype: int64"
            ]
          },
          "metadata": {
            "tags": []
          },
          "execution_count": 134
        }
      ]
    },
    {
      "cell_type": "code",
      "metadata": {
        "id": "2MrxIZ793Pwe"
      },
      "source": [
        "#df_merged.to_csv(\"merced.csv\")"
      ],
      "execution_count": 135,
      "outputs": []
    },
    {
      "cell_type": "code",
      "metadata": {
        "id": "Ny3VYv16zsMD"
      },
      "source": [
        "df_naive=df_merged[['SEX', 'd1', 'healthCode1','medTimepoint', 'ROW_ID2', \n",
        "'are-caretaker_True', \n",
        "'deep-brain-stimulation_True', \n",
        "'education', \n",
        "'employment', \n",
        "'maritalStatus', \n",
        "'smartphone', \n",
        "'smoked_True', \n",
        "'surgery_True', \n",
        "'years-smoking', \n",
        "'professional-diagnosis', \n",
        "'F0semitoneFrom27#5Hz_sma3nz_amean', \n",
        "'F0semitoneFrom27#5Hz_sma3nz_stddevNorm', \n",
        "'F0semitoneFrom27#5Hz_sma3nz_percentile20#0', \n",
        "'F0semitoneFrom27#5Hz_sma3nz_percentile50#0', \n",
        "'F0semitoneFrom27#5Hz_sma3nz_percentile80#0', \n",
        "'F0semitoneFrom27#5Hz_sma3nz_pctlrange0-2', \n",
        "'F0semitoneFrom27#5Hz_sma3nz_meanRisingSlope', \n",
        "'F0semitoneFrom27#5Hz_sma3nz_stddevRisingSlope', \n",
        "'F0semitoneFrom27#5Hz_sma3nz_meanFallingSlope', \n",
        "'F0semitoneFrom27#5Hz_sma3nz_stddevFallingSlope', \n",
        "'jitterLocal_sma3nz_amean', \n",
        "'jitterLocal_sma3nz_stddevNorm', \n",
        "'shimmerLocaldB_sma3nz_amean', \n",
        "'shimmerLocaldB_sma3nz_stddevNorm']]\n",
        "\n",
        "\n",
        "\n",
        "\n",
        "\n",
        "df_merged2=df_merged[['ROW_ID_y','d1','d2','d3','d4','d5','age_y',\n",
        "                      'are-caretaker_True','deep-brain-stimulation_True',\n",
        "                     'diagnosis-year','education','employment','SEX','healthcare-provider',\n",
        "                      'maritalStatus','medication-start-year','onset-year','packs-per-day',\n",
        "                      'smartphone','smoked_True','surgery_True','video-usage_True','years-smoking','professional-diagnosis']]\n",
        "\n",
        "# Cambio el nombre de las columnas\n",
        "\n",
        "df_merged2.columns=['id','d1','d2','d3','d4','d5','edad','es_cuidador','dbs','anio_diagnostico',\n",
        "                   'educ','empleo','genero','tipo_medico','estado_marital','anio_comienzo_med','anio_comienzo_sintomas',\n",
        "                   'paquetes_por_dia','facilidad_celular','fumo','cirujia','videollamada','anios_fumo','diagnostico_pro']\n",
        "\n",
        "df_varnumericas=df_merged2[[\"d1\",  \"d2\", \"d3\", \"d4\", \"d5\", \"edad\"]]\n"
      ],
      "execution_count": 136,
      "outputs": []
    },
    {
      "cell_type": "markdown",
      "metadata": {
        "id": "-ncug4REkZpv"
      },
      "source": [
        "# Regresion Logística"
      ]
    },
    {
      "cell_type": "markdown",
      "metadata": {
        "id": "9ZVku5vckZpw"
      },
      "source": [
        "Seleccionemos algunas características para el modelado. También cambiamos el tipo de datos de destino para que sea entero, ya que es un requisito del algoritmo skitlearn:"
      ]
    },
    {
      "cell_type": "markdown",
      "metadata": {
        "id": "UcxsjSo4kZpx"
      },
      "source": [
        "\n",
        "Definamos X e y para nuestro conjunto de datos:"
      ]
    },
    {
      "cell_type": "code",
      "metadata": {
        "id": "fYy970JUkZpx"
      },
      "source": [
        "X=df_varnumericas\n",
        "#X[\"d1\"].isnull().count()\n",
        "X = np.asarray(X)"
      ],
      "execution_count": 137,
      "outputs": []
    },
    {
      "cell_type": "code",
      "metadata": {
        "colab": {
          "base_uri": "https://localhost:8080/"
        },
        "id": "_fehhJytkZpy",
        "outputId": "3dabf9b0-1030-456e-af82-28ae9ec207eb"
      },
      "source": [
        "y = np.asarray(df_merged2[\"diagnostico_pro\"])\n",
        "y [0:6]"
      ],
      "execution_count": 138,
      "outputs": [
        {
          "output_type": "execute_result",
          "data": {
            "text/plain": [
              "array([0., 1., 1., 1., 0., 1.])"
            ]
          },
          "metadata": {
            "tags": []
          },
          "execution_count": 138
        }
      ]
    },
    {
      "cell_type": "markdown",
      "metadata": {
        "id": "WEelAJX3kZpz"
      },
      "source": [
        "## Normalizamos el conjunto de datos:"
      ]
    },
    {
      "cell_type": "code",
      "metadata": {
        "colab": {
          "base_uri": "https://localhost:8080/"
        },
        "id": "-i0QUJLWkZpz",
        "outputId": "9fa8c268-86db-48b2-bbe9-117dd30320c3"
      },
      "source": [
        "from sklearn import preprocessing\n",
        "X = preprocessing.StandardScaler().fit(X).transform(X)\n",
        "X[0:5]"
      ],
      "execution_count": 139,
      "outputs": [
        {
          "output_type": "execute_result",
          "data": {
            "text/plain": [
              "array([[ 0.32, -1.79,  0.58,  0.49,  1.32,  1.23],\n",
              "       [-0.53,  0.75,  1.7 ,  0.5 , -0.59,  0.42],\n",
              "       [ 0.49,  0.75, -1.4 ,  1.63, -0.72,  1.15],\n",
              "       [-0.23, -2.75,  0.88, -0.24,  2.19, -0.06],\n",
              "       [-0.73,  0.46,  1.48,  0.25, -0.51, -0.71]])"
            ]
          },
          "metadata": {
            "tags": []
          },
          "execution_count": 139
        }
      ]
    },
    {
      "cell_type": "markdown",
      "metadata": {
        "id": "oBRM3ab5kZpz"
      },
      "source": [
        "## Conjunto de datos de entrenamiento / prueba\n",
        "\n",
        "Definido “X” y “y” ya podemos realizar la separación correspondiente a los datos de prueba y entrenamiento para ello importamos la respectiva librería y procedemos a utilizar train_test_split para separar los datos."
      ]
    },
    {
      "cell_type": "code",
      "metadata": {
        "id": "rpHVV3F6kZp0"
      },
      "source": [
        "from sklearn.model_selection import train_test_split"
      ],
      "execution_count": 140,
      "outputs": []
    },
    {
      "cell_type": "markdown",
      "metadata": {
        "id": "_EY6ljn5kZp0"
      },
      "source": [
        "Para la separación de los datos, vamos a tomar un 20% de los mismos para utilizarlos como prueba una vez que hayamos obtenido el modelo."
      ]
    },
    {
      "cell_type": "code",
      "metadata": {
        "id": "gNvOkuYMkZp0",
        "colab": {
          "base_uri": "https://localhost:8080/"
        },
        "outputId": "02f1eaf0-2054-4afb-8ed4-6fdb3002d7e9"
      },
      "source": [
        "X_train, X_test, y_train, y_test = train_test_split( X, y, test_size=0.2, random_state=14)\n",
        "#14 --- 0.783141555171768\n",
        "print ('Train set:', X_train.shape,  y_train.shape)\n",
        "print ('Test set:', X_test.shape,  y_test.shape)"
      ],
      "execution_count": 141,
      "outputs": [
        {
          "output_type": "stream",
          "text": [
            "Train set: (1980, 6) (1980,)\n",
            "Test set: (496, 6) (496,)\n"
          ],
          "name": "stdout"
        }
      ]
    },
    {
      "cell_type": "markdown",
      "metadata": {
        "id": "ThpWjGArkZp1"
      },
      "source": [
        "## Modelado (regresión logística con Scikit-learn)"
      ]
    },
    {
      "cell_type": "markdown",
      "metadata": {
        "id": "LfKlRb2akZp1"
      },
      "source": [
        "La versión de Regresión logística en Scikit-learn, admite regularización. La regularización es una técnica utilizada para resolver el problema de sobreajuste en modelos de aprendizaje automático. El parámetro C indica el inverso de la fuerza de regularización, que debe ser un valor flotante positivo. Los valores más pequeños especifican una regularización más fuerte. Ahora ajustemos nuestro modelo con el set de entrenamiento:"
      ]
    },
    {
      "cell_type": "code",
      "metadata": {
        "id": "Y2PVcexRkZp1",
        "colab": {
          "base_uri": "https://localhost:8080/"
        },
        "outputId": "73e13aab-cacf-43e4-cb0c-b6402bf84437"
      },
      "source": [
        "from sklearn.linear_model import LogisticRegression\n",
        "from sklearn.metrics import confusion_matrix\n",
        "LR = LogisticRegression(C=0.1, solver='liblinear').fit(X_train,y_train)\n",
        "print(LR)"
      ],
      "execution_count": 142,
      "outputs": [
        {
          "output_type": "stream",
          "text": [
            "LogisticRegression(C=0.1, class_weight=None, dual=False, fit_intercept=True,\n",
            "                   intercept_scaling=1, l1_ratio=None, max_iter=100,\n",
            "                   multi_class='auto', n_jobs=None, penalty='l2',\n",
            "                   random_state=None, solver='liblinear', tol=0.0001, verbose=0,\n",
            "                   warm_start=False)\n"
          ],
          "name": "stdout"
        }
      ]
    },
    {
      "cell_type": "code",
      "metadata": {
        "scrolled": true,
        "id": "DfuGVpN5kZp1"
      },
      "source": [
        "yhat = LR.predict(X_test)"
      ],
      "execution_count": 143,
      "outputs": []
    },
    {
      "cell_type": "markdown",
      "metadata": {
        "id": "WPdsZL41kZp2"
      },
      "source": [
        "Y finalmente realizamos una predicción, utilizando la instrucción predict y los datos de prueba."
      ]
    },
    {
      "cell_type": "code",
      "metadata": {
        "id": "MHGqzSoAkZp2"
      },
      "source": [
        "yhat_prob = LR.predict_proba(X_test)"
      ],
      "execution_count": 144,
      "outputs": []
    },
    {
      "cell_type": "markdown",
      "metadata": {
        "id": "tR7-HHDAkZp2"
      },
      "source": [
        "## Evaluación"
      ]
    },
    {
      "cell_type": "markdown",
      "metadata": {
        "id": "Yh0Yt8ujkZp2"
      },
      "source": [
        "Probemos el índice jaccard para evaluar la precisión. podemos definir jaccard como el tamaño de la intersección dividido por el tamaño de la unión de dos conjuntos de etiquetas. Si todo el conjunto de etiquetas predichas para una muestra coincide estrictamente con el conjunto verdadero de etiquetas, entonces la precisión del subconjunto es 1.0; de lo contrario, es 0.0."
      ]
    },
    {
      "cell_type": "code",
      "metadata": {
        "id": "LwxPYJurkZp3",
        "colab": {
          "base_uri": "https://localhost:8080/"
        },
        "outputId": "11b5ba32-d96b-4957-f803-4f9263692841"
      },
      "source": [
        "from sklearn.metrics import jaccard_score\n",
        "jaccard_score(y_test, yhat)"
      ],
      "execution_count": 145,
      "outputs": [
        {
          "output_type": "execute_result",
          "data": {
            "text/plain": [
              "0.6383763837638377"
            ]
          },
          "metadata": {
            "tags": []
          },
          "execution_count": 145
        }
      ]
    },
    {
      "cell_type": "markdown",
      "metadata": {
        "id": "u7Qs3RDhkZp3"
      },
      "source": [
        "## Matriz de Confusion"
      ]
    },
    {
      "cell_type": "markdown",
      "metadata": {
        "id": "qjjIhBMfkZp3"
      },
      "source": [
        "Otra forma de ver la precisión del clasificador es mirar la matriz de confusión."
      ]
    },
    {
      "cell_type": "code",
      "metadata": {
        "scrolled": true,
        "id": "Efl9zC8kkZp3",
        "colab": {
          "base_uri": "https://localhost:8080/"
        },
        "outputId": "601deb82-2fde-48f1-9a7d-01eb396f60b0"
      },
      "source": [
        "from sklearn.metrics import classification_report, confusion_matrix\n",
        "import itertools\n",
        "def plot_confusion_matrix(cm, classes,\n",
        "                          normalize=False,\n",
        "                          title='Confusion matrix',\n",
        "                          cmap=plt.cm.Blues):\n",
        "   \n",
        "    plt.imshow(cm, interpolation='nearest', cmap=cmap)\n",
        "    plt.title(title)\n",
        "    plt.colorbar()\n",
        "    tick_marks = np.arange(len(classes))\n",
        "    plt.xticks(tick_marks, classes, rotation=45)\n",
        "    plt.yticks(tick_marks, classes)\n",
        "\n",
        "    fmt = '.2f' if normalize else 'd'\n",
        "    thresh = cm.max() / 2.\n",
        "    for i, j in itertools.product(range(cm.shape[0]), range(cm.shape[1])):\n",
        "        plt.text(j, i, format(cm[i, j], fmt),\n",
        "                 horizontalalignment=\"center\",\n",
        "                 VerticalAlignment=\"center\",\n",
        "                 color=\"grey\" if cm[i, j] > thresh else \"black\")\n",
        "\n",
        "    plt.tight_layout()\n",
        "    plt.ylabel('True label')\n",
        "    plt.xlabel('Predicted label')\n",
        "    plt.show()\n",
        "print(confusion_matrix(y_test, yhat, labels=[1,0]))"
      ],
      "execution_count": 146,
      "outputs": [
        {
          "output_type": "stream",
          "text": [
            "[[173  40]\n",
            " [ 58 225]]\n"
          ],
          "name": "stdout"
        }
      ]
    },
    {
      "cell_type": "code",
      "metadata": {
        "id": "kBaRB0vxkZp4",
        "colab": {
          "base_uri": "https://localhost:8080/",
          "height": 310
        },
        "outputId": "eb409cf0-2032-4c53-ecf8-abf7bb0ad082"
      },
      "source": [
        "# Compute confusion matrix\n",
        "cnf_matrix = confusion_matrix(y_test, yhat, labels=[1,0])\n",
        "np.set_printoptions(precision=2)\n",
        "\n",
        "\n",
        "# Plot non-normalized confusion matrix\n",
        "plt.figure()\n",
        "plot_confusion_matrix(cnf_matrix, classes=['churn=1','churn=0'],normalize= False,  title='Confusion matrix')"
      ],
      "execution_count": 147,
      "outputs": [
        {
          "output_type": "display_data",
          "data": {
            "image/png": "[encoded data removed]",
            "text/plain": [
              "<Figure size 432x288 with 2 Axes>"
            ]
          },
          "metadata": {
            "tags": [],
            "needs_background": "light"
          }
        }
      ]
    },
    {
      "cell_type": "code",
      "metadata": {
        "id": "C83tlQGukZp4",
        "colab": {
          "base_uri": "https://localhost:8080/"
        },
        "outputId": "5d10ee1a-4211-4d89-f16f-441dca43ff89"
      },
      "source": [
        "print (classification_report(y_test, yhat))"
      ],
      "execution_count": 148,
      "outputs": [
        {
          "output_type": "stream",
          "text": [
            "              precision    recall  f1-score   support\n",
            "\n",
            "         0.0       0.85      0.80      0.82       283\n",
            "         1.0       0.75      0.81      0.78       213\n",
            "\n",
            "    accuracy                           0.80       496\n",
            "   macro avg       0.80      0.80      0.80       496\n",
            "weighted avg       0.81      0.80      0.80       496\n",
            "\n"
          ],
          "name": "stdout"
        }
      ]
    },
    {
      "cell_type": "markdown",
      "metadata": {
        "id": "8vUJOYXxkZp5"
      },
      "source": [
        "Basándonos en el recuento de cada sección, podemos calcular la precisión y la recuperación de cada etiqueta:\n",
        "\n",
        "La precisión es una medida de la precisión siempre que se haya predicho una etiqueta de clase. Está definido por: precisión = TP / (TP + FP)\n",
        "\n",
        "El recuerdo es una verdadera tasa positiva. Se define como: Recuperación = TP / (TP + FN)\n",
        "\n",
        "Entonces, podemos calcular la precisión y la recuperación de cada clase.\n",
        "\n",
        "Puntaje F1: ahora estamos en condiciones de calcular los puntajes F1 para cada etiqueta en función de la precisión y el recuerdo de esa etiqueta.\n",
        "\n",
        "La puntuación F1 es el promedio armónico de la precisión y la recuperación, donde una puntuación F1 alcanza su mejor valor en 1 (precisión y recuperación perfecta) y el peor en 0. Es una buena forma de demostrar que un clasificador tiene un buen valor para ambos recuerdo y precisión.\n",
        "\n",
        "Y finalmente, podemos decir que la precisión promedio para este clasificador es el promedio de la puntuación F1 para ambas etiquetas, que es 0,72 en nuestro caso."
      ]
    },
    {
      "cell_type": "markdown",
      "metadata": {
        "id": "RlbL9xjqkZp5"
      },
      "source": [
        "## log loss - pérdida de registro"
      ]
    },
    {
      "cell_type": "markdown",
      "metadata": {
        "id": "xRufRbzbkZp5"
      },
      "source": [
        "Ahora, intentemos la \"\"log loss\"\" de registros para su evaluación. En la regresión logística, el resultado puede ser que la probabilidad de que el diagnostico sea sí (o igual a 1). Esta probabilidad es un valor entre 0 y 1. La log loss (pérdida logarítmica) mide el rendimiento de un clasificador donde la salida prevista es un valor de probabilidad entre 0 y 1."
      ]
    },
    {
      "cell_type": "code",
      "metadata": {
        "id": "RR3srjJikZp5",
        "colab": {
          "base_uri": "https://localhost:8080/"
        },
        "outputId": "758e5b01-21f7-4533-e1c3-315a4b38763e"
      },
      "source": [
        "from sklearn.metrics import log_loss\n",
        "log_loss(y_test, yhat_prob).round(5)"
      ],
      "execution_count": 149,
      "outputs": [
        {
          "output_type": "execute_result",
          "data": {
            "text/plain": [
              "0.47896"
            ]
          },
          "metadata": {
            "tags": []
          },
          "execution_count": 149
        }
      ]
    },
    {
      "cell_type": "markdown",
      "metadata": {
        "id": "g8413WBbuFai"
      },
      "source": [
        "## Curva ROC para la Regresion Logistica"
      ]
    },
    {
      "cell_type": "code",
      "metadata": {
        "colab": {
          "base_uri": "https://localhost:8080/"
        },
        "id": "cRkQjMTcbbG2",
        "outputId": "a1d1ca3b-a28b-4593-cb97-9792df2e8a14"
      },
      "source": [
        "from sklearn.metrics import roc_auc_score\n",
        "roc_auc = roc_auc_score(y_test, yhat)\n",
        "print('Curva ROC - AUC del modelo:')\n",
        "print(roc_auc.round(4))"
      ],
      "execution_count": 153,
      "outputs": [
        {
          "output_type": "stream",
          "text": [
            "Curva ROC - AUC del modelo:\n",
            "0.8036\n"
          ],
          "name": "stdout"
        }
      ]
    },
    {
      "cell_type": "code",
      "metadata": {
        "colab": {
          "base_uri": "https://localhost:8080/",
          "height": 394
        },
        "id": "BA_LZJmmYO3q",
        "outputId": "e1216a48-7637-44d6-b544-ddd5547a9a51"
      },
      "source": [
        "plt.figure(figsize=(10, 6))\n",
        "from sklearn import metrics\n",
        "\n",
        "\n",
        "fpr, tpr, _ = metrics.roc_curve(y_test,  yhat)\n",
        "auc = metrics.roc_auc_score(y_test, yhat).round(10)\n",
        "\n",
        "# Graficamos la curva roc\n",
        "plt.plot(fpr,tpr,label=\"AUC=\"+str(round(auc,3)))\n",
        "plt.legend(loc=4, fontsize=12)\n",
        "\n",
        "# Graficamos la recta del azar\n",
        "it = [i/100 for i in range(100)]\n",
        "plt.plot(it,it,label=\"AZAR, AUC=0.5\",color=\"red\")\n",
        "plt.legend(loc=4, fontsize=12)\n",
        "\n",
        "plt.title(\"Curva ROC\", fontsize=14)\n",
        "plt.tick_params(labelsize=12);\n",
        "plt.show()"
      ],
      "execution_count": 151,
      "outputs": [
        {
          "output_type": "display_data",
          "data": {
            "image/png": "[encoded data removed]",
            "text/plain": [
              "<Figure size 720x432 with 1 Axes>"
            ]
          },
          "metadata": {
            "tags": [],
            "needs_background": "light"
          }
        }
      ]
    },
    {
      "cell_type": "code",
      "metadata": {
        "id": "vupmxTVsa6Hh"
      },
      "source": [
        ""
      ],
      "execution_count": 151,
      "outputs": []
    },
    {
      "cell_type": "markdown",
      "metadata": {
        "id": "7A6jD6IJkZp6"
      },
      "source": [
        "# Naive Bayes"
      ]
    },
    {
      "cell_type": "markdown",
      "metadata": {
        "id": "3vXKevJCkZp6"
      },
      "source": [
        "Naive Bayes es el algoritmo más sencillo y potente. A pesar de los significativos avances de Machine Learning en los últimos años, ha demostrado su valía. Se ha implementado con éxito en muchas aplicaciones, desde el análisis de texto hasta los motores de recomendación.Asume que el efecto de una caracteristica particular en una clase es indepentiente de las otras caracteristicas.\n",
        "\n",
        "En este momento ya tenemos separados los datos de “x” con “y”. Ahora es el momento de separar los datos de entrenamiento y prueba, para ello utilizamos la instrucción de train_test_split, la cual nos facilita bastante este procedimiento."
      ]
    },
    {
      "cell_type": "code",
      "metadata": {
        "id": "Qr4HMN41qEpV",
        "colab": {
          "base_uri": "https://localhost:8080/",
          "height": 345
        },
        "outputId": "79b94c13-af5d-4b1a-c68b-9d7cf60a709a"
      },
      "source": [
        "# Encode categorical variables\n",
        "from sklearn.preprocessing import OrdinalEncoder\n",
        "\n",
        "X=df_naive\n",
        "enc = OrdinalEncoder()\n",
        "X = enc.fit_transform(X)"
      ],
      "execution_count": 152,
      "outputs": [
        {
          "output_type": "error",
          "ename": "ValueError",
          "evalue": "ignored",
          "traceback": [
            "\u001b[0;31m---------------------------------------------------------------------------\u001b[0m",
            "\u001b[0;31mValueError\u001b[0m                                Traceback (most recent call last)",
            "\u001b[0;32m<ipython-input-152-03d945bc5b8c>\u001b[0m in \u001b[0;36m<module>\u001b[0;34m()\u001b[0m\n\u001b[1;32m      4\u001b[0m \u001b[0mX\u001b[0m\u001b[0;34m=\u001b[0m\u001b[0mdf_naive\u001b[0m\u001b[0;34m\u001b[0m\u001b[0;34m\u001b[0m\u001b[0m\n\u001b[1;32m      5\u001b[0m \u001b[0menc\u001b[0m \u001b[0;34m=\u001b[0m \u001b[0mOrdinalEncoder\u001b[0m\u001b[0;34m(\u001b[0m\u001b[0;34m)\u001b[0m\u001b[0;34m\u001b[0m\u001b[0;34m\u001b[0m\u001b[0m\n\u001b[0;32m----> 6\u001b[0;31m \u001b[0mX\u001b[0m \u001b[0;34m=\u001b[0m \u001b[0menc\u001b[0m\u001b[0;34m.\u001b[0m\u001b[0mfit_transform\u001b[0m\u001b[0;34m(\u001b[0m\u001b[0mX\u001b[0m\u001b[0;34m)\u001b[0m\u001b[0;34m\u001b[0m\u001b[0;34m\u001b[0m\u001b[0m\n\u001b[0m",
            "\u001b[0;32m/usr/local/lib/python3.7/dist-packages/sklearn/base.py\u001b[0m in \u001b[0;36mfit_transform\u001b[0;34m(self, X, y, **fit_params)\u001b[0m\n\u001b[1;32m    569\u001b[0m         \u001b[0;32mif\u001b[0m \u001b[0my\u001b[0m \u001b[0;32mis\u001b[0m \u001b[0;32mNone\u001b[0m\u001b[0;34m:\u001b[0m\u001b[0;34m\u001b[0m\u001b[0;34m\u001b[0m\u001b[0m\n\u001b[1;32m    570\u001b[0m             \u001b[0;31m# fit method of arity 1 (unsupervised transformation)\u001b[0m\u001b[0;34m\u001b[0m\u001b[0;34m\u001b[0m\u001b[0;34m\u001b[0m\u001b[0m\n\u001b[0;32m--> 571\u001b[0;31m             \u001b[0;32mreturn\u001b[0m \u001b[0mself\u001b[0m\u001b[0;34m.\u001b[0m\u001b[0mfit\u001b[0m\u001b[0;34m(\u001b[0m\u001b[0mX\u001b[0m\u001b[0;34m,\u001b[0m \u001b[0;34m**\u001b[0m\u001b[0mfit_params\u001b[0m\u001b[0;34m)\u001b[0m\u001b[0;34m.\u001b[0m\u001b[0mtransform\u001b[0m\u001b[0;34m(\u001b[0m\u001b[0mX\u001b[0m\u001b[0;34m)\u001b[0m\u001b[0;34m\u001b[0m\u001b[0;34m\u001b[0m\u001b[0m\n\u001b[0m\u001b[1;32m    572\u001b[0m         \u001b[0;32melse\u001b[0m\u001b[0;34m:\u001b[0m\u001b[0;34m\u001b[0m\u001b[0;34m\u001b[0m\u001b[0m\n\u001b[1;32m    573\u001b[0m             \u001b[0;31m# fit method of arity 2 (supervised transformation)\u001b[0m\u001b[0;34m\u001b[0m\u001b[0;34m\u001b[0m\u001b[0;34m\u001b[0m\u001b[0m\n",
            "\u001b[0;32m/usr/local/lib/python3.7/dist-packages/sklearn/preprocessing/_encoders.py\u001b[0m in \u001b[0;36mfit\u001b[0;34m(self, X, y)\u001b[0m\n\u001b[1;32m    627\u001b[0m         \u001b[0mself\u001b[0m\u001b[0;34m\u001b[0m\u001b[0;34m\u001b[0m\u001b[0m\n\u001b[1;32m    628\u001b[0m         \"\"\"\n\u001b[0;32m--> 629\u001b[0;31m         \u001b[0mself\u001b[0m\u001b[0;34m.\u001b[0m\u001b[0m_fit\u001b[0m\u001b[0;34m(\u001b[0m\u001b[0mX\u001b[0m\u001b[0;34m)\u001b[0m\u001b[0;34m\u001b[0m\u001b[0;34m\u001b[0m\u001b[0m\n\u001b[0m\u001b[1;32m    630\u001b[0m \u001b[0;34m\u001b[0m\u001b[0m\n\u001b[1;32m    631\u001b[0m         \u001b[0;32mreturn\u001b[0m \u001b[0mself\u001b[0m\u001b[0;34m\u001b[0m\u001b[0;34m\u001b[0m\u001b[0m\n",
            "\u001b[0;32m/usr/local/lib/python3.7/dist-packages/sklearn/preprocessing/_encoders.py\u001b[0m in \u001b[0;36m_fit\u001b[0;34m(self, X, handle_unknown)\u001b[0m\n\u001b[1;32m     72\u001b[0m \u001b[0;34m\u001b[0m\u001b[0m\n\u001b[1;32m     73\u001b[0m     \u001b[0;32mdef\u001b[0m \u001b[0m_fit\u001b[0m\u001b[0;34m(\u001b[0m\u001b[0mself\u001b[0m\u001b[0;34m,\u001b[0m \u001b[0mX\u001b[0m\u001b[0;34m,\u001b[0m \u001b[0mhandle_unknown\u001b[0m\u001b[0;34m=\u001b[0m\u001b[0;34m'error'\u001b[0m\u001b[0;34m)\u001b[0m\u001b[0;34m:\u001b[0m\u001b[0;34m\u001b[0m\u001b[0;34m\u001b[0m\u001b[0m\n\u001b[0;32m---> 74\u001b[0;31m         \u001b[0mX_list\u001b[0m\u001b[0;34m,\u001b[0m \u001b[0mn_samples\u001b[0m\u001b[0;34m,\u001b[0m \u001b[0mn_features\u001b[0m \u001b[0;34m=\u001b[0m \u001b[0mself\u001b[0m\u001b[0;34m.\u001b[0m\u001b[0m_check_X\u001b[0m\u001b[0;34m(\u001b[0m\u001b[0mX\u001b[0m\u001b[0;34m)\u001b[0m\u001b[0;34m\u001b[0m\u001b[0;34m\u001b[0m\u001b[0m\n\u001b[0m\u001b[1;32m     75\u001b[0m \u001b[0;34m\u001b[0m\u001b[0m\n\u001b[1;32m     76\u001b[0m         \u001b[0;32mif\u001b[0m \u001b[0mself\u001b[0m\u001b[0;34m.\u001b[0m\u001b[0mcategories\u001b[0m \u001b[0;34m!=\u001b[0m \u001b[0;34m'auto'\u001b[0m\u001b[0;34m:\u001b[0m\u001b[0;34m\u001b[0m\u001b[0;34m\u001b[0m\u001b[0m\n",
            "\u001b[0;32m/usr/local/lib/python3.7/dist-packages/sklearn/preprocessing/_encoders.py\u001b[0m in \u001b[0;36m_check_X\u001b[0;34m(self, X)\u001b[0m\n\u001b[1;32m     59\u001b[0m             \u001b[0mXi\u001b[0m \u001b[0;34m=\u001b[0m \u001b[0mself\u001b[0m\u001b[0;34m.\u001b[0m\u001b[0m_get_feature\u001b[0m\u001b[0;34m(\u001b[0m\u001b[0mX\u001b[0m\u001b[0;34m,\u001b[0m \u001b[0mfeature_idx\u001b[0m\u001b[0;34m=\u001b[0m\u001b[0mi\u001b[0m\u001b[0;34m)\u001b[0m\u001b[0;34m\u001b[0m\u001b[0;34m\u001b[0m\u001b[0m\n\u001b[1;32m     60\u001b[0m             Xi = check_array(Xi, ensure_2d=False, dtype=None,\n\u001b[0;32m---> 61\u001b[0;31m                              force_all_finite=needs_validation)\n\u001b[0m\u001b[1;32m     62\u001b[0m             \u001b[0mX_columns\u001b[0m\u001b[0;34m.\u001b[0m\u001b[0mappend\u001b[0m\u001b[0;34m(\u001b[0m\u001b[0mXi\u001b[0m\u001b[0;34m)\u001b[0m\u001b[0;34m\u001b[0m\u001b[0;34m\u001b[0m\u001b[0m\n\u001b[1;32m     63\u001b[0m \u001b[0;34m\u001b[0m\u001b[0m\n",
            "\u001b[0;32m/usr/local/lib/python3.7/dist-packages/sklearn/utils/validation.py\u001b[0m in \u001b[0;36mcheck_array\u001b[0;34m(array, accept_sparse, accept_large_sparse, dtype, order, copy, force_all_finite, ensure_2d, allow_nd, ensure_min_samples, ensure_min_features, warn_on_dtype, estimator)\u001b[0m\n\u001b[1;32m    576\u001b[0m         \u001b[0;32mif\u001b[0m \u001b[0mforce_all_finite\u001b[0m\u001b[0;34m:\u001b[0m\u001b[0;34m\u001b[0m\u001b[0;34m\u001b[0m\u001b[0m\n\u001b[1;32m    577\u001b[0m             _assert_all_finite(array,\n\u001b[0;32m--> 578\u001b[0;31m                                allow_nan=force_all_finite == 'allow-nan')\n\u001b[0m\u001b[1;32m    579\u001b[0m \u001b[0;34m\u001b[0m\u001b[0m\n\u001b[1;32m    580\u001b[0m     \u001b[0;32mif\u001b[0m \u001b[0mensure_min_samples\u001b[0m \u001b[0;34m>\u001b[0m \u001b[0;36m0\u001b[0m\u001b[0;34m:\u001b[0m\u001b[0;34m\u001b[0m\u001b[0;34m\u001b[0m\u001b[0m\n",
            "\u001b[0;32m/usr/local/lib/python3.7/dist-packages/sklearn/utils/validation.py\u001b[0m in \u001b[0;36m_assert_all_finite\u001b[0;34m(X, allow_nan, msg_dtype)\u001b[0m\n\u001b[1;32m     58\u001b[0m                     \u001b[0mmsg_err\u001b[0m\u001b[0;34m.\u001b[0m\u001b[0mformat\u001b[0m\u001b[0;34m\u001b[0m\u001b[0;34m\u001b[0m\u001b[0m\n\u001b[1;32m     59\u001b[0m                     (type_err,\n\u001b[0;32m---> 60\u001b[0;31m                      msg_dtype if msg_dtype is not None else X.dtype)\n\u001b[0m\u001b[1;32m     61\u001b[0m             )\n\u001b[1;32m     62\u001b[0m     \u001b[0;31m# for object dtype data, we only check for NaNs (GH-13254)\u001b[0m\u001b[0;34m\u001b[0m\u001b[0;34m\u001b[0m\u001b[0;34m\u001b[0m\u001b[0m\n",
            "\u001b[0;31mValueError\u001b[0m: Input contains NaN, infinity or a value too large for dtype('float64')."
          ]
        }
      ]
    },
    {
      "cell_type": "code",
      "metadata": {
        "id": "Cnu-F92fzheX"
      },
      "source": [
        "y=df_merged2[\"diagnostico_pro\"].values"
      ],
      "execution_count": null,
      "outputs": []
    },
    {
      "cell_type": "code",
      "metadata": {
        "id": "NOWcWGtZkZp6"
      },
      "source": [
        "from sklearn.model_selection import train_test_split\n",
        "#Separo los datos de \"train\" en entrenamiento y prueba para probar los algoritmos\n",
        "X_train, X_test, y_train, y_test = train_test_split(X, y, test_size=0.2, random_state=13)\n",
        "\n",
        "\n",
        "#best score 0.7970598104 with random_state =10\n",
        "#AQUI"
      ],
      "execution_count": null,
      "outputs": []
    },
    {
      "cell_type": "markdown",
      "metadata": {
        "id": "ZkFUlEX3kZp6"
      },
      "source": [
        "Seguidamente definimos el algoritmo, en este caso le indicamos a nuestro programa, de sklearn.naive_bayes vamos a importar GaussianNB, con esto ya podemos implementar este algoritmo dentro de nuestro programa."
      ]
    },
    {
      "cell_type": "code",
      "metadata": {
        "id": "urhJVzpqkZp7"
      },
      "source": [
        "#Naive Bayes\n",
        "from sklearn.naive_bayes import GaussianNB\n",
        "algoritmo = GaussianNB()"
      ],
      "execution_count": null,
      "outputs": []
    },
    {
      "cell_type": "markdown",
      "metadata": {
        "id": "4_CRZy3tkZp7"
      },
      "source": [
        "Por tal motivo entrenamos el modelo junto a los datos de entrenamiento."
      ]
    },
    {
      "cell_type": "code",
      "metadata": {
        "id": "fJL0lF3lkZp7"
      },
      "source": [
        "#Entreno el modelo\n",
        "algoritmo.fit(X_train, y_train)"
      ],
      "execution_count": null,
      "outputs": []
    },
    {
      "cell_type": "markdown",
      "metadata": {
        "id": "iCzK6oZ_kZp7"
      },
      "source": [
        "Seguidamente realizamos una predicción junto a los datos de pruebas que separamos previamente.\n"
      ]
    },
    {
      "cell_type": "code",
      "metadata": {
        "id": "3dvrnNWBkZp7"
      },
      "source": [
        "#Realizo una predicción\n",
        "y_pred = algoritmo.predict(X_test)"
      ],
      "execution_count": null,
      "outputs": []
    },
    {
      "cell_type": "markdown",
      "metadata": {
        "id": "zKvQY6mvkZp8"
      },
      "source": [
        "Verifiquemos como es el modelo utilizando las métricas de los problemas de clasificación, para ello vamos a obtener la matriz de confusión. Para esto importamos del modulo sklearn.metrics, confusion_matrix, y aplicamos esta instrucción junto a los datos de prueba y los obtenidos en la predicción realizada previamente."
      ]
    },
    {
      "cell_type": "code",
      "metadata": {
        "id": "QwohbVWvkZp8"
      },
      "source": [
        "#Verifico la matriz de Confusión\n",
        "from sklearn.metrics import confusion_matrix\n",
        "matriz = confusion_matrix(y_test, y_pred)\n",
        "print('Matriz de Confusión:')\n",
        "print(matriz)"
      ],
      "execution_count": null,
      "outputs": []
    },
    {
      "cell_type": "markdown",
      "metadata": {
        "id": "XxDepWZykZp8"
      },
      "source": [
        "Ahora veamos la precisión del mismo, para esto importamos precision_score del modulo sklearn.metrics y lo implementamos de igual forma junto a los datos de entrenamiento y los predichos."
      ]
    },
    {
      "cell_type": "code",
      "metadata": {
        "id": "tFiDcq09kZp8"
      },
      "source": [
        "#Calculo la precisión del modelo\n",
        "from sklearn.metrics import precision_score\n",
        "precision = precision_score(y_test, y_pred)\n",
        "print('Precisión del modelo:')\n",
        "print(precision)"
      ],
      "execution_count": null,
      "outputs": []
    },
    {
      "cell_type": "markdown",
      "metadata": {
        "id": "8Cd7tzNl6xFx"
      },
      "source": [
        "## Curva ROC para NAIVE BAYES"
      ]
    },
    {
      "cell_type": "code",
      "metadata": {
        "id": "0G3k1cGm6w2Z"
      },
      "source": [
        "plt.figure(figsize=(10, 6))\n",
        "\n",
        "from sklearn import metrics\n",
        "\n",
        "fpr, tpr, _ = metrics.roc_curve(y_test,  y_pred)\n",
        "auc = metrics.roc_auc_score(y_test, y_pred).round(10)\n",
        "\n",
        "# Graficamos la curva roc\n",
        "plt.plot(fpr,tpr,label=\"AUC=\"+str(round(auc,3)))\n",
        "#plt.xlabel('% Continuan', fontsize=14)\n",
        "#plt.ylabel('% Bajas', fontsize=14)\n",
        "plt.legend(loc=4, fontsize=12)\n",
        "\n",
        "# Graficamos la recta del azar\n",
        "it = [i/100 for i in range(100)]\n",
        "plt.plot(it,it,label=\"AZAR, AUC=0.5\",color=\"red\")\n",
        "\n",
        "plt.title(\"Curva ROC\", fontsize=14)\n",
        "plt.tick_params(labelsize=12);\n",
        "plt.show()"
      ],
      "execution_count": null,
      "outputs": []
    },
    {
      "cell_type": "code",
      "metadata": {
        "id": "lEpps7Y__aGb"
      },
      "source": [
        "print(auc)"
      ],
      "execution_count": null,
      "outputs": []
    },
    {
      "cell_type": "code",
      "metadata": {
        "id": "cGUirw_k2d9j"
      },
      "source": [
        ""
      ],
      "execution_count": null,
      "outputs": []
    }
  ]
}