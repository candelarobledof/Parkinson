{
  "nbformat": 4,
  "nbformat_minor": 0,
  "metadata": {
    "kernelspec": {
      "display_name": "Python 3",
      "language": "python",
      "name": "python3"
    },
    "language_info": {
      "codemirror_mode": {
        "name": "ipython",
        "version": 3
      },
      "file_extension": ".py",
      "mimetype": "text/x-python",
      "name": "python",
      "nbconvert_exporter": "python",
      "pygments_lexer": "ipython3",
      "version": "3.7.3"
    },
    "colab": {
      "name": "Copia de Regresión Logística y Naive Bayes.ipynb",
      "provenance": [],
      "collapsed_sections": [
        "pJfrJCY5kZpp"
      ],
      "include_colab_link": true
    }
  },
  "cells": [
    {
      "cell_type": "markdown",
      "metadata": {
        "id": "view-in-github",
        "colab_type": "text"
      },
      "source": [
        "<a href=\"https://colab.research.google.com/github/candelarobledof/parkinson/blob/main/Copia_de_Regresi%C3%B3n_Log%C3%ADstica_y_Naive_Bayes.ipynb\" target=\"_parent\"><img src=\"https://colab.research.google.com/assets/colab-badge.svg\" alt=\"Open In Colab\"/></a>"
      ]
    },
    {
      "cell_type": "code",
      "metadata": {
        "id": "mgVxfO6fkZpd"
      },
      "source": [
        "import pandas as pd\n",
        "import seaborn as sns\n",
        "import numpy as np\n",
        "import matplotlib.pyplot as plt\n",
        "from pandas.plotting import scatter_matrix\n",
        "%matplotlib inline"
      ],
      "execution_count": 90,
      "outputs": []
    },
    {
      "cell_type": "code",
      "metadata": {
        "id": "CXUvK6fxkZpi"
      },
      "source": [
        "df=pd.read_csv(\"becarios.csv\")\n",
        "df2=pd.read_csv('basests.csv')"
      ],
      "execution_count": 91,
      "outputs": []
    },
    {
      "cell_type": "code",
      "metadata": {
        "scrolled": false,
        "colab": {
          "base_uri": "https://localhost:8080/",
          "height": 398
        },
        "id": "Gg2FgM6akZpk",
        "outputId": "7e1f97c6-ffaf-4e42-b170-c1ac19957602"
      },
      "source": [
        "print(df.shape)\n",
        "df.head(3)"
      ],
      "execution_count": 92,
      "outputs": [
        {
          "output_type": "stream",
          "text": [
            "(2546, 135)\n"
          ],
          "name": "stdout"
        },
        {
          "output_type": "execute_result",
          "data": {
            "text/html": [
              "<div>\n",
              "<style scoped>\n",
              "    .dataframe tbody tr th:only-of-type {\n",
              "        vertical-align: middle;\n",
              "    }\n",
              "\n",
              "    .dataframe tbody tr th {\n",
              "        vertical-align: top;\n",
              "    }\n",
              "\n",
              "    .dataframe thead th {\n",
              "        text-align: right;\n",
              "    }\n",
              "</style>\n",
              "<table border=\"1\" class=\"dataframe\">\n",
              "  <thead>\n",
              "    <tr style=\"text-align: right;\">\n",
              "      <th></th>\n",
              "      <th>recordId1</th>\n",
              "      <th>healthCode1</th>\n",
              "      <th>createdOn1</th>\n",
              "      <th>appVersion1</th>\n",
              "      <th>JJ\"phoneInfo</th>\n",
              "      <th>medTimepoint</th>\n",
              "      <th>audio_audio#m4a</th>\n",
              "      <th>audio_countdown#m4a</th>\n",
              "      <th>frameTime</th>\n",
              "      <th>F0semitoneFrom27#5Hz_sma3nz_amean</th>\n",
              "      <th>F0semitoneFrom27#5Hz_sma3nz_stddevNorm</th>\n",
              "      <th>F0semitoneFrom27#5Hz_sma3nz_percentile20#0</th>\n",
              "      <th>F0semitoneFrom27#5Hz_sma3nz_percentile50#0</th>\n",
              "      <th>F0semitoneFrom27#5Hz_sma3nz_percentile80#0</th>\n",
              "      <th>F0semitoneFrom27#5Hz_sma3nz_pctlrange0-2</th>\n",
              "      <th>F0semitoneFrom27#5Hz_sma3nz_meanRisingSlope</th>\n",
              "      <th>F0semitoneFrom27#5Hz_sma3nz_stddevRisingSlope</th>\n",
              "      <th>F0semitoneFrom27#5Hz_sma3nz_meanFallingSlope</th>\n",
              "      <th>F0semitoneFrom27#5Hz_sma3nz_stddevFallingSlope</th>\n",
              "      <th>loudness_sma3_amean</th>\n",
              "      <th>loudness_sma3_stddevNorm</th>\n",
              "      <th>loudness_sma3_percentile20#0</th>\n",
              "      <th>loudness_sma3_percentile50#0</th>\n",
              "      <th>loudness_sma3_percentile80#0</th>\n",
              "      <th>loudness_sma3_pctlrange0-2</th>\n",
              "      <th>loudness_sma3_meanRisingSlope</th>\n",
              "      <th>loudness_sma3_stddevRisingSlope</th>\n",
              "      <th>loudness_sma3_meanFallingSlope</th>\n",
              "      <th>loudness_sma3_stddevFallingSlope</th>\n",
              "      <th>jitterLocal_sma3nz_amean</th>\n",
              "      <th>jitterLocal_sma3nz_stddevNorm</th>\n",
              "      <th>shimmerLocaldB_sma3nz_amean</th>\n",
              "      <th>shimmerLocaldB_sma3nz_stddevNorm</th>\n",
              "      <th>HNRdBACF_sma3nz_amean</th>\n",
              "      <th>HNRdBACF_sma3nz_stddevNorm</th>\n",
              "      <th>validacion</th>\n",
              "      <th>logRelF0-H1-H2_sma3nz_amean</th>\n",
              "      <th>logRelF0-H1-H2_sma3nz_stddevNorm</th>\n",
              "      <th>logRelF0-H1-A3_sma3nz_amean</th>\n",
              "      <th>logRelF0-H1-A3_sma3nz_stddevNorm</th>\n",
              "      <th>...</th>\n",
              "      <th>medication-start-year</th>\n",
              "      <th>onset-year</th>\n",
              "      <th>packs-per-day</th>\n",
              "      <th>past-participation</th>\n",
              "      <th>phone-usage</th>\n",
              "      <th>race</th>\n",
              "      <th>smartphone</th>\n",
              "      <th>smoked</th>\n",
              "      <th>surgery</th>\n",
              "      <th>video-usage</th>\n",
              "      <th>years-smoking</th>\n",
              "      <th>ROW_ID</th>\n",
              "      <th>ROW_VERSION</th>\n",
              "      <th>recordId</th>\n",
              "      <th>healthCode</th>\n",
              "      <th>createdOn</th>\n",
              "      <th>appVersion</th>\n",
              "      <th>phoneInfo</th>\n",
              "      <th>EQ-5D1</th>\n",
              "      <th>GELTQ-1a</th>\n",
              "      <th>GELTQ-1b</th>\n",
              "      <th>GELTQ-1c</th>\n",
              "      <th>GELTQ-2</th>\n",
              "      <th>MDS-UPDRS1 3</th>\n",
              "      <th>MDS-UPDRS1 4</th>\n",
              "      <th>MDS-UPDRS1 5</th>\n",
              "      <th>MDS-UPDRS1 7</th>\n",
              "      <th>MDS-UPDRS1 8</th>\n",
              "      <th>MDS-UPDRS2 1</th>\n",
              "      <th>MDS-UPDRS2 4</th>\n",
              "      <th>MDS-UPDRS2 5</th>\n",
              "      <th>MDS-UPDRS2 6</th>\n",
              "      <th>MDS-UPDRS2 7</th>\n",
              "      <th>MDS-UPDRS2 8</th>\n",
              "      <th>MDS-UPDRS2 9</th>\n",
              "      <th>MDS-UPDRS2 10</th>\n",
              "      <th>MDS-UPDRS2 12</th>\n",
              "      <th>MDS-UPDRS2 13</th>\n",
              "      <th>MDS-UPDRS1 1</th>\n",
              "      <th>professional-diagnosis</th>\n",
              "    </tr>\n",
              "  </thead>\n",
              "  <tbody>\n",
              "    <tr>\n",
              "      <th>0</th>\n",
              "      <td>f5f9fe7a-16ea-4729-ad36-4adf16d640d3</td>\n",
              "      <td>00081bd9-9abd-4003-b035-de6cc3e8c922</td>\n",
              "      <td>2015-04-24 11:43:46.000</td>\n",
              "      <td>version 1.0.5, build 12</td>\n",
              "      <td>iPhone 6</td>\n",
              "      <td>I don't take Parkinson medications</td>\n",
              "      <td>5911541</td>\n",
              "      <td>5911575</td>\n",
              "      <td>0</td>\n",
              "      <td>29.43724</td>\n",
              "      <td>0.147913</td>\n",
              "      <td>29.09326</td>\n",
              "      <td>29.94629</td>\n",
              "      <td>30.27972</td>\n",
              "      <td>1.186460</td>\n",
              "      <td>268.321900</td>\n",
              "      <td>318.870000</td>\n",
              "      <td>220.726300</td>\n",
              "      <td>155.224600</td>\n",
              "      <td>1.239076</td>\n",
              "      <td>0.760484</td>\n",
              "      <td>0.336663</td>\n",
              "      <td>1.139049</td>\n",
              "      <td>2.213950</td>\n",
              "      <td>1.877287</td>\n",
              "      <td>5.434294</td>\n",
              "      <td>7.509209</td>\n",
              "      <td>16.042990</td>\n",
              "      <td>24.681170</td>\n",
              "      <td>0.044515</td>\n",
              "      <td>2.031568</td>\n",
              "      <td>1.026207</td>\n",
              "      <td>0.763972</td>\n",
              "      <td>5.635386</td>\n",
              "      <td>1.047144</td>\n",
              "      <td>0</td>\n",
              "      <td>2.775975</td>\n",
              "      <td>3.135737</td>\n",
              "      <td>23.86835</td>\n",
              "      <td>0.364966</td>\n",
              "      <td>...</td>\n",
              "      <td>0.0</td>\n",
              "      <td>NaN</td>\n",
              "      <td>1.0</td>\n",
              "      <td>False</td>\n",
              "      <td>false</td>\n",
              "      <td>East Asian</td>\n",
              "      <td>Easy</td>\n",
              "      <td>True</td>\n",
              "      <td>False</td>\n",
              "      <td>True</td>\n",
              "      <td>30.0</td>\n",
              "      <td>NaN</td>\n",
              "      <td>NaN</td>\n",
              "      <td>NaN</td>\n",
              "      <td>NaN</td>\n",
              "      <td>NaN</td>\n",
              "      <td>NaN</td>\n",
              "      <td>NaN</td>\n",
              "      <td>NaN</td>\n",
              "      <td>NaN</td>\n",
              "      <td>NaN</td>\n",
              "      <td>NaN</td>\n",
              "      <td>NaN</td>\n",
              "      <td>NaN</td>\n",
              "      <td>NaN</td>\n",
              "      <td>NaN</td>\n",
              "      <td>NaN</td>\n",
              "      <td>NaN</td>\n",
              "      <td>NaN</td>\n",
              "      <td>NaN</td>\n",
              "      <td>NaN</td>\n",
              "      <td>NaN</td>\n",
              "      <td>NaN</td>\n",
              "      <td>NaN</td>\n",
              "      <td>NaN</td>\n",
              "      <td>NaN</td>\n",
              "      <td>NaN</td>\n",
              "      <td>NaN</td>\n",
              "      <td>NaN</td>\n",
              "      <td>False</td>\n",
              "    </tr>\n",
              "    <tr>\n",
              "      <th>1</th>\n",
              "      <td>e6faeb0a-c919-4726-a62c-f1d07bfa05fa</td>\n",
              "      <td>0085b356-0550-4cf1-85bd-2bcd89bf1201</td>\n",
              "      <td>2015-05-20 17:37:08.000</td>\n",
              "      <td>version 1.0.5, build 12</td>\n",
              "      <td>iPhone 5s (GSM)</td>\n",
              "      <td>Another time</td>\n",
              "      <td>5738698</td>\n",
              "      <td>5738725</td>\n",
              "      <td>0</td>\n",
              "      <td>25.07906</td>\n",
              "      <td>0.022314</td>\n",
              "      <td>24.75333</td>\n",
              "      <td>24.96259</td>\n",
              "      <td>25.27861</td>\n",
              "      <td>0.525288</td>\n",
              "      <td>77.777370</td>\n",
              "      <td>122.096200</td>\n",
              "      <td>6.490576</td>\n",
              "      <td>5.274602</td>\n",
              "      <td>1.598153</td>\n",
              "      <td>0.230859</td>\n",
              "      <td>1.342744</td>\n",
              "      <td>1.586495</td>\n",
              "      <td>1.940588</td>\n",
              "      <td>0.597844</td>\n",
              "      <td>4.072270</td>\n",
              "      <td>2.199968</td>\n",
              "      <td>1.997201</td>\n",
              "      <td>2.071721</td>\n",
              "      <td>0.006010</td>\n",
              "      <td>1.184233</td>\n",
              "      <td>0.365015</td>\n",
              "      <td>1.240886</td>\n",
              "      <td>7.443104</td>\n",
              "      <td>0.231679</td>\n",
              "      <td>0</td>\n",
              "      <td>-0.468550</td>\n",
              "      <td>-4.964474</td>\n",
              "      <td>8.40042</td>\n",
              "      <td>0.456547</td>\n",
              "      <td>...</td>\n",
              "      <td>2009.0</td>\n",
              "      <td>2009.0</td>\n",
              "      <td>1.0</td>\n",
              "      <td>True</td>\n",
              "      <td>true</td>\n",
              "      <td>White or Caucasian</td>\n",
              "      <td>Very easy</td>\n",
              "      <td>True</td>\n",
              "      <td>False</td>\n",
              "      <td>False</td>\n",
              "      <td>15.0</td>\n",
              "      <td>NaN</td>\n",
              "      <td>NaN</td>\n",
              "      <td>NaN</td>\n",
              "      <td>NaN</td>\n",
              "      <td>NaN</td>\n",
              "      <td>NaN</td>\n",
              "      <td>NaN</td>\n",
              "      <td>NaN</td>\n",
              "      <td>NaN</td>\n",
              "      <td>NaN</td>\n",
              "      <td>NaN</td>\n",
              "      <td>NaN</td>\n",
              "      <td>NaN</td>\n",
              "      <td>NaN</td>\n",
              "      <td>NaN</td>\n",
              "      <td>NaN</td>\n",
              "      <td>NaN</td>\n",
              "      <td>NaN</td>\n",
              "      <td>NaN</td>\n",
              "      <td>NaN</td>\n",
              "      <td>NaN</td>\n",
              "      <td>NaN</td>\n",
              "      <td>NaN</td>\n",
              "      <td>NaN</td>\n",
              "      <td>NaN</td>\n",
              "      <td>NaN</td>\n",
              "      <td>NaN</td>\n",
              "      <td>NaN</td>\n",
              "      <td>True</td>\n",
              "    </tr>\n",
              "    <tr>\n",
              "      <th>2</th>\n",
              "      <td>819ced7b-7437-4eca-9c96-85c9a630bc71</td>\n",
              "      <td>00dc061b-8151-44cc-8eae-4d10f11a5ab6</td>\n",
              "      <td>2015-03-31 19:02:42.000</td>\n",
              "      <td>version 1.0, build 7</td>\n",
              "      <td>iPhone 5c (GSM)</td>\n",
              "      <td>Immediately before Parkinson medication</td>\n",
              "      <td>6061823</td>\n",
              "      <td>6061843</td>\n",
              "      <td>0</td>\n",
              "      <td>30.28607</td>\n",
              "      <td>0.016195</td>\n",
              "      <td>29.85055</td>\n",
              "      <td>30.21422</td>\n",
              "      <td>30.64663</td>\n",
              "      <td>0.796078</td>\n",
              "      <td>3.399709</td>\n",
              "      <td>1.435303</td>\n",
              "      <td>3.445418</td>\n",
              "      <td>3.067692</td>\n",
              "      <td>0.881381</td>\n",
              "      <td>0.073002</td>\n",
              "      <td>0.827307</td>\n",
              "      <td>0.877551</td>\n",
              "      <td>0.931256</td>\n",
              "      <td>0.103949</td>\n",
              "      <td>0.957957</td>\n",
              "      <td>0.629951</td>\n",
              "      <td>0.769095</td>\n",
              "      <td>0.500005</td>\n",
              "      <td>0.003496</td>\n",
              "      <td>0.585721</td>\n",
              "      <td>0.208283</td>\n",
              "      <td>0.515115</td>\n",
              "      <td>10.869530</td>\n",
              "      <td>0.027975</td>\n",
              "      <td>0</td>\n",
              "      <td>-2.195964</td>\n",
              "      <td>-1.029112</td>\n",
              "      <td>35.48409</td>\n",
              "      <td>0.083729</td>\n",
              "      <td>...</td>\n",
              "      <td>2014.0</td>\n",
              "      <td>2014.0</td>\n",
              "      <td>NaN</td>\n",
              "      <td>True</td>\n",
              "      <td>true</td>\n",
              "      <td>White or Caucasian</td>\n",
              "      <td>Very easy</td>\n",
              "      <td>False</td>\n",
              "      <td>False</td>\n",
              "      <td>False</td>\n",
              "      <td>NaN</td>\n",
              "      <td>3141.0</td>\n",
              "      <td>2.0</td>\n",
              "      <td>add494b6-b6bc-47fe-8ffe-92cf8943f287</td>\n",
              "      <td>00dc061b-8151-44cc-8eae-4d10f11a5ab6</td>\n",
              "      <td>1.426110e+12</td>\n",
              "      <td>version 1.0</td>\n",
              "      <td>build 7</td>\n",
              "      <td>iPhone 5c (GSM)</td>\n",
              "      <td>100.0</td>\n",
              "      <td>2.0</td>\n",
              "      <td>1.0</td>\n",
              "      <td>2.0</td>\n",
              "      <td>Sometimes</td>\n",
              "      <td>0</td>\n",
              "      <td>0.0</td>\n",
              "      <td>0.0</td>\n",
              "      <td>1.0</td>\n",
              "      <td>1.0</td>\n",
              "      <td>0.0</td>\n",
              "      <td>0.0</td>\n",
              "      <td>0.0</td>\n",
              "      <td>0.0</td>\n",
              "      <td>0.0</td>\n",
              "      <td>0.0</td>\n",
              "      <td>0.0</td>\n",
              "      <td>0.0</td>\n",
              "      <td>0.0</td>\n",
              "      <td>0</td>\n",
              "      <td>True</td>\n",
              "    </tr>\n",
              "  </tbody>\n",
              "</table>\n",
              "<p>3 rows × 135 columns</p>\n",
              "</div>"
            ],
            "text/plain": [
              "                              recordId1  ... professional-diagnosis\n",
              "0  f5f9fe7a-16ea-4729-ad36-4adf16d640d3  ...                  False\n",
              "1  e6faeb0a-c919-4726-a62c-f1d07bfa05fa  ...                   True\n",
              "2  819ced7b-7437-4eca-9c96-85c9a630bc71  ...                   True\n",
              "\n",
              "[3 rows x 135 columns]"
            ]
          },
          "metadata": {
            "tags": []
          },
          "execution_count": 92
        }
      ]
    },
    {
      "cell_type": "markdown",
      "metadata": {
        "id": "fi_kIVR4kZpm"
      },
      "source": [
        "Modifico categoricas a dummies:"
      ]
    },
    {
      "cell_type": "code",
      "metadata": {
        "id": "weX4B14pkZpn"
      },
      "source": [
        "df['professional-diagnosis'].replace(False,0, inplace=True)\n",
        "df['professional-diagnosis'].replace(True,1, inplace=True)"
      ],
      "execution_count": 93,
      "outputs": []
    },
    {
      "cell_type": "code",
      "metadata": {
        "id": "8zCti2EIGdj3"
      },
      "source": [
        "df = pd.get_dummies(df, columns = [\"gender\",\"are-caretaker\",\"deep-brain-stimulation\",\"medical-usage-yesterday\",\"past-participation\"\n",
        "                                    ,\"phone-usage\",\"smoked\",\"surgery\",\"video-usage\"], drop_first = True)"
      ],
      "execution_count": 94,
      "outputs": []
    },
    {
      "cell_type": "code",
      "metadata": {
        "colab": {
          "base_uri": "https://localhost:8080/",
          "height": 158
        },
        "id": "E2LXQpRHkZpl",
        "outputId": "a3d4decd-260e-43ff-ad04-beaca3c27d7f"
      },
      "source": [
        "print(df2.shape)\n",
        "df2.head(3)"
      ],
      "execution_count": 95,
      "outputs": [
        {
          "output_type": "stream",
          "text": [
            "(2218, 11)\n"
          ],
          "name": "stdout"
        },
        {
          "output_type": "execute_result",
          "data": {
            "text/html": [
              "<div>\n",
              "<style scoped>\n",
              "    .dataframe tbody tr th:only-of-type {\n",
              "        vertical-align: middle;\n",
              "    }\n",
              "\n",
              "    .dataframe tbody tr th {\n",
              "        vertical-align: top;\n",
              "    }\n",
              "\n",
              "    .dataframe thead th {\n",
              "        text-align: right;\n",
              "    }\n",
              "</style>\n",
              "<table border=\"1\" class=\"dataframe\">\n",
              "  <thead>\n",
              "    <tr style=\"text-align: right;\">\n",
              "      <th></th>\n",
              "      <th>ROW_ID</th>\n",
              "      <th>age</th>\n",
              "      <th>EdadR</th>\n",
              "      <th>DIAGNOSTICO</th>\n",
              "      <th>M_POINT</th>\n",
              "      <th>SEX</th>\n",
              "      <th>d1</th>\n",
              "      <th>d2</th>\n",
              "      <th>d3</th>\n",
              "      <th>d4</th>\n",
              "      <th>d5</th>\n",
              "    </tr>\n",
              "  </thead>\n",
              "  <tbody>\n",
              "    <tr>\n",
              "      <th>0</th>\n",
              "      <td>24665</td>\n",
              "      <td>71</td>\n",
              "      <td>70</td>\n",
              "      <td>1</td>\n",
              "      <td>1.0</td>\n",
              "      <td>1.0</td>\n",
              "      <td>35.23343</td>\n",
              "      <td>-178.8503</td>\n",
              "      <td>0.374910</td>\n",
              "      <td>0.096570</td>\n",
              "      <td>0.032114</td>\n",
              "    </tr>\n",
              "    <tr>\n",
              "      <th>1</th>\n",
              "      <td>21472</td>\n",
              "      <td>48</td>\n",
              "      <td>45</td>\n",
              "      <td>0</td>\n",
              "      <td>0.0</td>\n",
              "      <td>2.0</td>\n",
              "      <td>35.06466</td>\n",
              "      <td>-177.2032</td>\n",
              "      <td>0.379995</td>\n",
              "      <td>0.115948</td>\n",
              "      <td>0.024917</td>\n",
              "    </tr>\n",
              "    <tr>\n",
              "      <th>2</th>\n",
              "      <td>25155</td>\n",
              "      <td>73</td>\n",
              "      <td>70</td>\n",
              "      <td>1</td>\n",
              "      <td>1.0</td>\n",
              "      <td>2.0</td>\n",
              "      <td>53.76691</td>\n",
              "      <td>-178.8864</td>\n",
              "      <td>0.359551</td>\n",
              "      <td>0.109389</td>\n",
              "      <td>0.058175</td>\n",
              "    </tr>\n",
              "  </tbody>\n",
              "</table>\n",
              "</div>"
            ],
            "text/plain": [
              "   ROW_ID  age  EdadR  DIAGNOSTICO  ...        d2        d3        d4        d5\n",
              "0   24665   71     70            1  ... -178.8503  0.374910  0.096570  0.032114\n",
              "1   21472   48     45            0  ... -177.2032  0.379995  0.115948  0.024917\n",
              "2   25155   73     70            1  ... -178.8864  0.359551  0.109389  0.058175\n",
              "\n",
              "[3 rows x 11 columns]"
            ]
          },
          "metadata": {
            "tags": []
          },
          "execution_count": 95
        }
      ]
    },
    {
      "cell_type": "markdown",
      "metadata": {
        "id": "xJyMrP5TkZpo"
      },
      "source": [
        "# Merge"
      ]
    },
    {
      "cell_type": "code",
      "metadata": {
        "scrolled": true,
        "colab": {
          "base_uri": "https://localhost:8080/"
        },
        "id": "MAuEZVfSkZpo",
        "outputId": "8613ad7f-df57-438f-e597-7a9aa21c3efc"
      },
      "source": [
        "#en el merge, las columnas repetidas de cada tabla van a ser repetidas pero con el indicador age_x y age_y\n",
        "\n",
        "df_merged = pd.merge(left=df, right=df2, left_on='ROW_ID2', right_on='ROW_ID')\n",
        "print(df_merged.shape)\n",
        "#df_merged.to_csv(\"new_dogs_with_bmi.csv\")\n",
        "df_merged.to_csv(\"new_dogs_with_bmi.csv\")"
      ],
      "execution_count": 96,
      "outputs": [
        {
          "output_type": "stream",
          "text": [
            "(2476, 149)\n"
          ],
          "name": "stdout"
        }
      ]
    },
    {
      "cell_type": "markdown",
      "metadata": {
        "id": "pJfrJCY5kZpp"
      },
      "source": [
        "# Filtrando por un valor"
      ]
    },
    {
      "cell_type": "code",
      "metadata": {
        "colab": {
          "base_uri": "https://localhost:8080/"
        },
        "id": "yxjbi09okZpp",
        "outputId": "68c0a199-fb93-4eb7-c8d0-e39ae05249c1"
      },
      "source": [
        "df_filtro=df_merged[['ROW_ID_y','ROW_ID2','d1','d2','d3','d4','d5','age_y','education']]\n",
        "df_filtro.head()\n",
        "print(df_filtro[df_filtro[\"ROW_ID_y\"]==22829 ])"
      ],
      "execution_count": 97,
      "outputs": [
        {
          "output_type": "stream",
          "text": [
            "      ROW_ID_y  ROW_ID2        d1  ...        d5  age_y                education\n",
            "2307     22829    22829  31.19639  ...  0.069262     50  High School Diploma/GED\n",
            "\n",
            "[1 rows x 9 columns]\n"
          ],
          "name": "stdout"
        }
      ]
    },
    {
      "cell_type": "markdown",
      "metadata": {
        "id": "XIraN-rKkZpq"
      },
      "source": [
        "# Selecciono las variables que voy a usar"
      ]
    },
    {
      "cell_type": "code",
      "metadata": {
        "id": "aHGf3fL8kZpq",
        "colab": {
          "base_uri": "https://localhost:8080/"
        },
        "outputId": "6903f713-3b42-4e6d-a840-a6980e7c2e50"
      },
      "source": [
        "#selecciono las variables \n",
        "\n",
        "df_merged2=df_merged[['ROW_ID_y','d1','d2','d3','d4','d5','age_y',\n",
        "                      'are-caretaker_True','deep-brain-stimulation_True',\n",
        "                     'diagnosis-year','education','employment','SEX','healthcare-provider',\n",
        "                      'maritalStatus','medication-start-year','onset-year','packs-per-day',\n",
        "                      'smartphone','smoked_True','surgery_True','video-usage_True','years-smoking','professional-diagnosis']]\n",
        "\n",
        "# Cambio el nombre de las columnas\n",
        "\n",
        "df_merged2.columns=['id','d1','d2','d3','d4','d5','edad','es_cuidador','dbs','anio_diagnostico',\n",
        "                   'educ','empleo','genero','tipo_medico','estado_marital','anio_comienzo_med','anio_comienzo_sintomas',\n",
        "                   'paquetes_por_dia','facilidad_celular','fumo','cirujia','videollamada','anios_fumo','diagnostico_pro']\n",
        "\n",
        "df_merged2['genero']=df_merged2['genero'].fillna(1)\n",
        "df_merged2['genero'].unique()\n",
        "\n",
        "#1=Male / 2=Female"
      ],
      "execution_count": 98,
      "outputs": [
        {
          "output_type": "stream",
          "text": [
            "/usr/local/lib/python3.7/dist-packages/ipykernel_launcher.py:15: SettingWithCopyWarning: \n",
            "A value is trying to be set on a copy of a slice from a DataFrame.\n",
            "Try using .loc[row_indexer,col_indexer] = value instead\n",
            "\n",
            "See the caveats in the documentation: https://pandas.pydata.org/pandas-docs/stable/user_guide/indexing.html#returning-a-view-versus-a-copy\n",
            "  from ipykernel import kernelapp as app\n"
          ],
          "name": "stderr"
        },
        {
          "output_type": "execute_result",
          "data": {
            "text/plain": [
              "array([2., 1.])"
            ]
          },
          "metadata": {
            "tags": []
          },
          "execution_count": 98
        }
      ]
    },
    {
      "cell_type": "markdown",
      "metadata": {
        "id": "Zrry3YR8kZpq"
      },
      "source": [
        "Veo cuantos nulos tengo en todo el DataFrame"
      ]
    },
    {
      "cell_type": "code",
      "metadata": {
        "colab": {
          "base_uri": "https://localhost:8080/"
        },
        "id": "s1KTGQWukZpr",
        "outputId": "d4ceeb1a-85e7-4daf-a58d-3b7f82ed2d14"
      },
      "source": [
        "df_merged2.dtypes"
      ],
      "execution_count": 99,
      "outputs": [
        {
          "output_type": "execute_result",
          "data": {
            "text/plain": [
              "id                          int64\n",
              "d1                        float64\n",
              "d2                        float64\n",
              "d3                        float64\n",
              "d4                        float64\n",
              "d5                        float64\n",
              "edad                        int64\n",
              "es_cuidador                 uint8\n",
              "dbs                         uint8\n",
              "anio_diagnostico          float64\n",
              "educ                       object\n",
              "empleo                     object\n",
              "genero                    float64\n",
              "tipo_medico                object\n",
              "estado_marital             object\n",
              "anio_comienzo_med         float64\n",
              "anio_comienzo_sintomas    float64\n",
              "paquetes_por_dia          float64\n",
              "facilidad_celular          object\n",
              "fumo                        uint8\n",
              "cirujia                     uint8\n",
              "videollamada                uint8\n",
              "anios_fumo                float64\n",
              "diagnostico_pro           float64\n",
              "dtype: object"
            ]
          },
          "metadata": {
            "tags": []
          },
          "execution_count": 99
        }
      ]
    },
    {
      "cell_type": "code",
      "metadata": {
        "colab": {
          "base_uri": "https://localhost:8080/",
          "height": 652
        },
        "id": "xWBSSAcG9n6W",
        "outputId": "e07d94bf-02d3-452b-ec68-a735fccb4dcc"
      },
      "source": [
        "df_merged2.corr()"
      ],
      "execution_count": 100,
      "outputs": [
        {
          "output_type": "execute_result",
          "data": {
            "text/html": [
              "<div>\n",
              "<style scoped>\n",
              "    .dataframe tbody tr th:only-of-type {\n",
              "        vertical-align: middle;\n",
              "    }\n",
              "\n",
              "    .dataframe tbody tr th {\n",
              "        vertical-align: top;\n",
              "    }\n",
              "\n",
              "    .dataframe thead th {\n",
              "        text-align: right;\n",
              "    }\n",
              "</style>\n",
              "<table border=\"1\" class=\"dataframe\">\n",
              "  <thead>\n",
              "    <tr style=\"text-align: right;\">\n",
              "      <th></th>\n",
              "      <th>id</th>\n",
              "      <th>d1</th>\n",
              "      <th>d2</th>\n",
              "      <th>d3</th>\n",
              "      <th>d4</th>\n",
              "      <th>d5</th>\n",
              "      <th>edad</th>\n",
              "      <th>es_cuidador</th>\n",
              "      <th>dbs</th>\n",
              "      <th>anio_diagnostico</th>\n",
              "      <th>genero</th>\n",
              "      <th>anio_comienzo_med</th>\n",
              "      <th>anio_comienzo_sintomas</th>\n",
              "      <th>paquetes_por_dia</th>\n",
              "      <th>fumo</th>\n",
              "      <th>cirujia</th>\n",
              "      <th>videollamada</th>\n",
              "      <th>anios_fumo</th>\n",
              "      <th>diagnostico_pro</th>\n",
              "    </tr>\n",
              "  </thead>\n",
              "  <tbody>\n",
              "    <tr>\n",
              "      <th>id</th>\n",
              "      <td>1.000000</td>\n",
              "      <td>0.124041</td>\n",
              "      <td>-0.055322</td>\n",
              "      <td>-0.029709</td>\n",
              "      <td>0.044925</td>\n",
              "      <td>0.009027</td>\n",
              "      <td>0.187127</td>\n",
              "      <td>0.031475</td>\n",
              "      <td>0.045053</td>\n",
              "      <td>-0.009348</td>\n",
              "      <td>-0.118401</td>\n",
              "      <td>0.106463</td>\n",
              "      <td>0.024312</td>\n",
              "      <td>-0.062585</td>\n",
              "      <td>-0.018489</td>\n",
              "      <td>0.047592</td>\n",
              "      <td>-0.148578</td>\n",
              "      <td>0.047144</td>\n",
              "      <td>0.145087</td>\n",
              "    </tr>\n",
              "    <tr>\n",
              "      <th>d1</th>\n",
              "      <td>0.124041</td>\n",
              "      <td>1.000000</td>\n",
              "      <td>-0.267639</td>\n",
              "      <td>-0.009028</td>\n",
              "      <td>0.379331</td>\n",
              "      <td>-0.150547</td>\n",
              "      <td>0.187686</td>\n",
              "      <td>0.106062</td>\n",
              "      <td>0.106589</td>\n",
              "      <td>-0.042453</td>\n",
              "      <td>-0.693183</td>\n",
              "      <td>0.189750</td>\n",
              "      <td>0.001818</td>\n",
              "      <td>-0.028420</td>\n",
              "      <td>-0.090202</td>\n",
              "      <td>0.044216</td>\n",
              "      <td>-0.165484</td>\n",
              "      <td>-0.017610</td>\n",
              "      <td>0.260956</td>\n",
              "    </tr>\n",
              "    <tr>\n",
              "      <th>d2</th>\n",
              "      <td>-0.055322</td>\n",
              "      <td>-0.267639</td>\n",
              "      <td>1.000000</td>\n",
              "      <td>-0.149056</td>\n",
              "      <td>0.087612</td>\n",
              "      <td>-0.246938</td>\n",
              "      <td>-0.092417</td>\n",
              "      <td>-0.034400</td>\n",
              "      <td>-0.037739</td>\n",
              "      <td>0.078253</td>\n",
              "      <td>0.210693</td>\n",
              "      <td>-0.106913</td>\n",
              "      <td>0.044425</td>\n",
              "      <td>-0.010659</td>\n",
              "      <td>0.023404</td>\n",
              "      <td>-0.079615</td>\n",
              "      <td>0.075821</td>\n",
              "      <td>0.009032</td>\n",
              "      <td>-0.118143</td>\n",
              "    </tr>\n",
              "    <tr>\n",
              "      <th>d3</th>\n",
              "      <td>-0.029709</td>\n",
              "      <td>-0.009028</td>\n",
              "      <td>-0.149056</td>\n",
              "      <td>1.000000</td>\n",
              "      <td>0.060801</td>\n",
              "      <td>0.155622</td>\n",
              "      <td>0.129520</td>\n",
              "      <td>0.020236</td>\n",
              "      <td>0.048690</td>\n",
              "      <td>0.013847</td>\n",
              "      <td>0.076325</td>\n",
              "      <td>0.127019</td>\n",
              "      <td>-0.019693</td>\n",
              "      <td>0.051752</td>\n",
              "      <td>0.036681</td>\n",
              "      <td>0.021739</td>\n",
              "      <td>0.000541</td>\n",
              "      <td>0.058588</td>\n",
              "      <td>0.081736</td>\n",
              "    </tr>\n",
              "    <tr>\n",
              "      <th>d4</th>\n",
              "      <td>0.044925</td>\n",
              "      <td>0.379331</td>\n",
              "      <td>0.087612</td>\n",
              "      <td>0.060801</td>\n",
              "      <td>1.000000</td>\n",
              "      <td>-0.091846</td>\n",
              "      <td>0.149490</td>\n",
              "      <td>0.058577</td>\n",
              "      <td>0.038928</td>\n",
              "      <td>0.040970</td>\n",
              "      <td>-0.274002</td>\n",
              "      <td>0.137243</td>\n",
              "      <td>0.030213</td>\n",
              "      <td>0.020640</td>\n",
              "      <td>-0.041582</td>\n",
              "      <td>0.044991</td>\n",
              "      <td>-0.087903</td>\n",
              "      <td>0.048889</td>\n",
              "      <td>0.131392</td>\n",
              "    </tr>\n",
              "    <tr>\n",
              "      <th>d5</th>\n",
              "      <td>0.009027</td>\n",
              "      <td>-0.150547</td>\n",
              "      <td>-0.246938</td>\n",
              "      <td>0.155622</td>\n",
              "      <td>-0.091846</td>\n",
              "      <td>1.000000</td>\n",
              "      <td>0.090072</td>\n",
              "      <td>0.015336</td>\n",
              "      <td>0.003317</td>\n",
              "      <td>-0.027710</td>\n",
              "      <td>0.100623</td>\n",
              "      <td>0.025837</td>\n",
              "      <td>0.009245</td>\n",
              "      <td>0.051084</td>\n",
              "      <td>0.051612</td>\n",
              "      <td>0.021057</td>\n",
              "      <td>-0.031601</td>\n",
              "      <td>0.036435</td>\n",
              "      <td>0.037819</td>\n",
              "    </tr>\n",
              "    <tr>\n",
              "      <th>edad</th>\n",
              "      <td>0.187127</td>\n",
              "      <td>0.187686</td>\n",
              "      <td>-0.092417</td>\n",
              "      <td>0.129520</td>\n",
              "      <td>0.149490</td>\n",
              "      <td>0.090072</td>\n",
              "      <td>1.000000</td>\n",
              "      <td>0.057446</td>\n",
              "      <td>0.101325</td>\n",
              "      <td>-0.031674</td>\n",
              "      <td>-0.132913</td>\n",
              "      <td>0.423406</td>\n",
              "      <td>0.040289</td>\n",
              "      <td>0.158722</td>\n",
              "      <td>0.041667</td>\n",
              "      <td>0.021505</td>\n",
              "      <td>-0.292749</td>\n",
              "      <td>0.202893</td>\n",
              "      <td>0.554884</td>\n",
              "    </tr>\n",
              "    <tr>\n",
              "      <th>es_cuidador</th>\n",
              "      <td>0.031475</td>\n",
              "      <td>0.106062</td>\n",
              "      <td>-0.034400</td>\n",
              "      <td>0.020236</td>\n",
              "      <td>0.058577</td>\n",
              "      <td>0.015336</td>\n",
              "      <td>0.057446</td>\n",
              "      <td>1.000000</td>\n",
              "      <td>-0.009673</td>\n",
              "      <td>-0.017252</td>\n",
              "      <td>-0.139169</td>\n",
              "      <td>0.028323</td>\n",
              "      <td>0.012665</td>\n",
              "      <td>0.004591</td>\n",
              "      <td>-0.045852</td>\n",
              "      <td>-0.020314</td>\n",
              "      <td>0.011030</td>\n",
              "      <td>0.012059</td>\n",
              "      <td>0.024029</td>\n",
              "    </tr>\n",
              "    <tr>\n",
              "      <th>dbs</th>\n",
              "      <td>0.045053</td>\n",
              "      <td>0.106589</td>\n",
              "      <td>-0.037739</td>\n",
              "      <td>0.048690</td>\n",
              "      <td>0.038928</td>\n",
              "      <td>0.003317</td>\n",
              "      <td>0.101325</td>\n",
              "      <td>-0.009673</td>\n",
              "      <td>1.000000</td>\n",
              "      <td>-0.429343</td>\n",
              "      <td>-0.087755</td>\n",
              "      <td>0.166626</td>\n",
              "      <td>-0.294908</td>\n",
              "      <td>-0.006392</td>\n",
              "      <td>0.003100</td>\n",
              "      <td>0.097803</td>\n",
              "      <td>-0.113567</td>\n",
              "      <td>0.024969</td>\n",
              "      <td>0.226225</td>\n",
              "    </tr>\n",
              "    <tr>\n",
              "      <th>anio_diagnostico</th>\n",
              "      <td>-0.009348</td>\n",
              "      <td>-0.042453</td>\n",
              "      <td>0.078253</td>\n",
              "      <td>0.013847</td>\n",
              "      <td>0.040970</td>\n",
              "      <td>-0.027710</td>\n",
              "      <td>-0.031674</td>\n",
              "      <td>-0.017252</td>\n",
              "      <td>-0.429343</td>\n",
              "      <td>1.000000</td>\n",
              "      <td>0.041377</td>\n",
              "      <td>-0.138778</td>\n",
              "      <td>0.817349</td>\n",
              "      <td>0.016337</td>\n",
              "      <td>-0.030062</td>\n",
              "      <td>-0.128919</td>\n",
              "      <td>-0.004913</td>\n",
              "      <td>0.037097</td>\n",
              "      <td>NaN</td>\n",
              "    </tr>\n",
              "    <tr>\n",
              "      <th>genero</th>\n",
              "      <td>-0.118401</td>\n",
              "      <td>-0.693183</td>\n",
              "      <td>0.210693</td>\n",
              "      <td>0.076325</td>\n",
              "      <td>-0.274002</td>\n",
              "      <td>0.100623</td>\n",
              "      <td>-0.132913</td>\n",
              "      <td>-0.139169</td>\n",
              "      <td>-0.087755</td>\n",
              "      <td>0.041377</td>\n",
              "      <td>1.000000</td>\n",
              "      <td>-0.155947</td>\n",
              "      <td>0.023105</td>\n",
              "      <td>0.098144</td>\n",
              "      <td>0.047985</td>\n",
              "      <td>-0.021526</td>\n",
              "      <td>0.173255</td>\n",
              "      <td>0.005465</td>\n",
              "      <td>-0.202144</td>\n",
              "    </tr>\n",
              "    <tr>\n",
              "      <th>anio_comienzo_med</th>\n",
              "      <td>0.106463</td>\n",
              "      <td>0.189750</td>\n",
              "      <td>-0.106913</td>\n",
              "      <td>0.127019</td>\n",
              "      <td>0.137243</td>\n",
              "      <td>0.025837</td>\n",
              "      <td>0.423406</td>\n",
              "      <td>0.028323</td>\n",
              "      <td>0.166626</td>\n",
              "      <td>-0.138778</td>\n",
              "      <td>-0.155947</td>\n",
              "      <td>1.000000</td>\n",
              "      <td>-0.085519</td>\n",
              "      <td>0.023719</td>\n",
              "      <td>0.016553</td>\n",
              "      <td>0.024727</td>\n",
              "      <td>-0.161360</td>\n",
              "      <td>-0.074501</td>\n",
              "      <td>0.846661</td>\n",
              "    </tr>\n",
              "    <tr>\n",
              "      <th>anio_comienzo_sintomas</th>\n",
              "      <td>0.024312</td>\n",
              "      <td>0.001818</td>\n",
              "      <td>0.044425</td>\n",
              "      <td>-0.019693</td>\n",
              "      <td>0.030213</td>\n",
              "      <td>0.009245</td>\n",
              "      <td>0.040289</td>\n",
              "      <td>0.012665</td>\n",
              "      <td>-0.294908</td>\n",
              "      <td>0.817349</td>\n",
              "      <td>0.023105</td>\n",
              "      <td>-0.085519</td>\n",
              "      <td>1.000000</td>\n",
              "      <td>0.025122</td>\n",
              "      <td>-0.049820</td>\n",
              "      <td>-0.085772</td>\n",
              "      <td>0.003382</td>\n",
              "      <td>0.013273</td>\n",
              "      <td>0.006872</td>\n",
              "    </tr>\n",
              "    <tr>\n",
              "      <th>paquetes_por_dia</th>\n",
              "      <td>-0.062585</td>\n",
              "      <td>-0.028420</td>\n",
              "      <td>-0.010659</td>\n",
              "      <td>0.051752</td>\n",
              "      <td>0.020640</td>\n",
              "      <td>0.051084</td>\n",
              "      <td>0.158722</td>\n",
              "      <td>0.004591</td>\n",
              "      <td>-0.006392</td>\n",
              "      <td>0.016337</td>\n",
              "      <td>0.098144</td>\n",
              "      <td>0.023719</td>\n",
              "      <td>0.025122</td>\n",
              "      <td>1.000000</td>\n",
              "      <td>NaN</td>\n",
              "      <td>0.075591</td>\n",
              "      <td>-0.025689</td>\n",
              "      <td>0.092428</td>\n",
              "      <td>0.024825</td>\n",
              "    </tr>\n",
              "    <tr>\n",
              "      <th>fumo</th>\n",
              "      <td>-0.018489</td>\n",
              "      <td>-0.090202</td>\n",
              "      <td>0.023404</td>\n",
              "      <td>0.036681</td>\n",
              "      <td>-0.041582</td>\n",
              "      <td>0.051612</td>\n",
              "      <td>0.041667</td>\n",
              "      <td>-0.045852</td>\n",
              "      <td>0.003100</td>\n",
              "      <td>-0.030062</td>\n",
              "      <td>0.047985</td>\n",
              "      <td>0.016553</td>\n",
              "      <td>-0.049820</td>\n",
              "      <td>NaN</td>\n",
              "      <td>1.000000</td>\n",
              "      <td>-0.001902</td>\n",
              "      <td>-0.087934</td>\n",
              "      <td>NaN</td>\n",
              "      <td>-0.019820</td>\n",
              "    </tr>\n",
              "    <tr>\n",
              "      <th>cirujia</th>\n",
              "      <td>0.047592</td>\n",
              "      <td>0.044216</td>\n",
              "      <td>-0.079615</td>\n",
              "      <td>0.021739</td>\n",
              "      <td>0.044991</td>\n",
              "      <td>0.021057</td>\n",
              "      <td>0.021505</td>\n",
              "      <td>-0.020314</td>\n",
              "      <td>0.097803</td>\n",
              "      <td>-0.128919</td>\n",
              "      <td>-0.021526</td>\n",
              "      <td>0.024727</td>\n",
              "      <td>-0.085772</td>\n",
              "      <td>0.075591</td>\n",
              "      <td>-0.001902</td>\n",
              "      <td>1.000000</td>\n",
              "      <td>0.015497</td>\n",
              "      <td>-0.029918</td>\n",
              "      <td>0.061042</td>\n",
              "    </tr>\n",
              "    <tr>\n",
              "      <th>videollamada</th>\n",
              "      <td>-0.148578</td>\n",
              "      <td>-0.165484</td>\n",
              "      <td>0.075821</td>\n",
              "      <td>0.000541</td>\n",
              "      <td>-0.087903</td>\n",
              "      <td>-0.031601</td>\n",
              "      <td>-0.292749</td>\n",
              "      <td>0.011030</td>\n",
              "      <td>-0.113567</td>\n",
              "      <td>-0.004913</td>\n",
              "      <td>0.173255</td>\n",
              "      <td>-0.161360</td>\n",
              "      <td>0.003382</td>\n",
              "      <td>-0.025689</td>\n",
              "      <td>-0.087934</td>\n",
              "      <td>0.015497</td>\n",
              "      <td>1.000000</td>\n",
              "      <td>-0.022002</td>\n",
              "      <td>-0.288790</td>\n",
              "    </tr>\n",
              "    <tr>\n",
              "      <th>anios_fumo</th>\n",
              "      <td>0.047144</td>\n",
              "      <td>-0.017610</td>\n",
              "      <td>0.009032</td>\n",
              "      <td>0.058588</td>\n",
              "      <td>0.048889</td>\n",
              "      <td>0.036435</td>\n",
              "      <td>0.202893</td>\n",
              "      <td>0.012059</td>\n",
              "      <td>0.024969</td>\n",
              "      <td>0.037097</td>\n",
              "      <td>0.005465</td>\n",
              "      <td>-0.074501</td>\n",
              "      <td>0.013273</td>\n",
              "      <td>0.092428</td>\n",
              "      <td>NaN</td>\n",
              "      <td>-0.029918</td>\n",
              "      <td>-0.022002</td>\n",
              "      <td>1.000000</td>\n",
              "      <td>0.021146</td>\n",
              "    </tr>\n",
              "    <tr>\n",
              "      <th>diagnostico_pro</th>\n",
              "      <td>0.145087</td>\n",
              "      <td>0.260956</td>\n",
              "      <td>-0.118143</td>\n",
              "      <td>0.081736</td>\n",
              "      <td>0.131392</td>\n",
              "      <td>0.037819</td>\n",
              "      <td>0.554884</td>\n",
              "      <td>0.024029</td>\n",
              "      <td>0.226225</td>\n",
              "      <td>NaN</td>\n",
              "      <td>-0.202144</td>\n",
              "      <td>0.846661</td>\n",
              "      <td>0.006872</td>\n",
              "      <td>0.024825</td>\n",
              "      <td>-0.019820</td>\n",
              "      <td>0.061042</td>\n",
              "      <td>-0.288790</td>\n",
              "      <td>0.021146</td>\n",
              "      <td>1.000000</td>\n",
              "    </tr>\n",
              "  </tbody>\n",
              "</table>\n",
              "</div>"
            ],
            "text/plain": [
              "                              id        d1  ...  anios_fumo  diagnostico_pro\n",
              "id                      1.000000  0.124041  ...    0.047144         0.145087\n",
              "d1                      0.124041  1.000000  ...   -0.017610         0.260956\n",
              "d2                     -0.055322 -0.267639  ...    0.009032        -0.118143\n",
              "d3                     -0.029709 -0.009028  ...    0.058588         0.081736\n",
              "d4                      0.044925  0.379331  ...    0.048889         0.131392\n",
              "d5                      0.009027 -0.150547  ...    0.036435         0.037819\n",
              "edad                    0.187127  0.187686  ...    0.202893         0.554884\n",
              "es_cuidador             0.031475  0.106062  ...    0.012059         0.024029\n",
              "dbs                     0.045053  0.106589  ...    0.024969         0.226225\n",
              "anio_diagnostico       -0.009348 -0.042453  ...    0.037097              NaN\n",
              "genero                 -0.118401 -0.693183  ...    0.005465        -0.202144\n",
              "anio_comienzo_med       0.106463  0.189750  ...   -0.074501         0.846661\n",
              "anio_comienzo_sintomas  0.024312  0.001818  ...    0.013273         0.006872\n",
              "paquetes_por_dia       -0.062585 -0.028420  ...    0.092428         0.024825\n",
              "fumo                   -0.018489 -0.090202  ...         NaN        -0.019820\n",
              "cirujia                 0.047592  0.044216  ...   -0.029918         0.061042\n",
              "videollamada           -0.148578 -0.165484  ...   -0.022002        -0.288790\n",
              "anios_fumo              0.047144 -0.017610  ...    1.000000         0.021146\n",
              "diagnostico_pro         0.145087  0.260956  ...    0.021146         1.000000\n",
              "\n",
              "[19 rows x 19 columns]"
            ]
          },
          "metadata": {
            "tags": []
          },
          "execution_count": 100
        }
      ]
    },
    {
      "cell_type": "markdown",
      "metadata": {
        "id": "lcSoOUmikZpr"
      },
      "source": [
        "# Elimino ID duplicados "
      ]
    },
    {
      "cell_type": "code",
      "metadata": {
        "id": "r830hAP0kZpr",
        "colab": {
          "base_uri": "https://localhost:8080/"
        },
        "outputId": "66ee4cfd-35c2-4c15-c6cb-411237101651"
      },
      "source": [
        "df_merged2=df_merged2.drop_duplicates('id')\n",
        "df_merged2.shape\n",
        "#df_merged2.to_csv(\"a_ver.csv\")"
      ],
      "execution_count": 101,
      "outputs": [
        {
          "output_type": "execute_result",
          "data": {
            "text/plain": [
              "(2218, 24)"
            ]
          },
          "metadata": {
            "tags": []
          },
          "execution_count": 101
        }
      ]
    },
    {
      "cell_type": "markdown",
      "metadata": {
        "id": "xwkuJXmzu32v"
      },
      "source": [
        "## Variables Numericas\n"
      ]
    },
    {
      "cell_type": "code",
      "metadata": {
        "scrolled": true,
        "colab": {
          "base_uri": "https://localhost:8080/"
        },
        "id": "5DbACY8HkZps",
        "outputId": "e20d519e-2635-4afd-9177-9ede087baed6"
      },
      "source": [
        "df_varnumericas=df_merged2[[\"d1\",  \"d2\", \"d3\", \"d4\", \"d5\", \"edad\", \"paquetes_por_dia\", \"anios_fumo\",'diagnostico_pro']]\n",
        "print(df_varnumericas.isnull().sum())"
      ],
      "execution_count": 102,
      "outputs": [
        {
          "output_type": "stream",
          "text": [
            "d1                     0\n",
            "d2                     0\n",
            "d3                     0\n",
            "d4                     0\n",
            "d5                     0\n",
            "edad                   0\n",
            "paquetes_por_dia    1569\n",
            "anios_fumo          1471\n",
            "diagnostico_pro        0\n",
            "dtype: int64\n"
          ],
          "name": "stdout"
        }
      ]
    },
    {
      "cell_type": "markdown",
      "metadata": {
        "id": "w9FfXwCUkZps"
      },
      "source": [
        "Establecere que los nan de years-smoking son 0"
      ]
    },
    {
      "cell_type": "code",
      "metadata": {
        "id": "dfH9t3jYkZps"
      },
      "source": [
        "df_varnumericas=df_varnumericas.fillna(0)"
      ],
      "execution_count": 103,
      "outputs": []
    },
    {
      "cell_type": "code",
      "metadata": {
        "colab": {
          "base_uri": "https://localhost:8080/"
        },
        "id": "59nSJs8xkZpt",
        "outputId": "5da8fd56-200b-4e40-e102-86b9733d1650"
      },
      "source": [
        "print(df_varnumericas.isnull().sum())"
      ],
      "execution_count": 104,
      "outputs": [
        {
          "output_type": "stream",
          "text": [
            "d1                  0\n",
            "d2                  0\n",
            "d3                  0\n",
            "d4                  0\n",
            "d5                  0\n",
            "edad                0\n",
            "paquetes_por_dia    0\n",
            "anios_fumo          0\n",
            "diagnostico_pro     0\n",
            "dtype: int64\n"
          ],
          "name": "stdout"
        }
      ]
    },
    {
      "cell_type": "code",
      "metadata": {
        "colab": {
          "base_uri": "https://localhost:8080/"
        },
        "id": "3gUx5M6CkZpt",
        "outputId": "cde1960a-973e-4228-c0aa-e4cc8a13e3c1"
      },
      "source": [
        "df_varnumericas.corr()\n",
        "corr_matrix = df_varnumericas.corr()\n",
        "corr_matrix[\"diagnostico_pro\"].sort_values(ascending=False)"
      ],
      "execution_count": 105,
      "outputs": [
        {
          "output_type": "execute_result",
          "data": {
            "text/plain": [
              "diagnostico_pro     1.000000\n",
              "edad                0.526044\n",
              "d1                  0.255867\n",
              "d4                  0.128035\n",
              "d3                  0.075095\n",
              "d5                  0.039492\n",
              "anios_fumo          0.005377\n",
              "paquetes_por_dia    0.003599\n",
              "d2                 -0.137364\n",
              "Name: diagnostico_pro, dtype: float64"
            ]
          },
          "metadata": {
            "tags": []
          },
          "execution_count": 105
        }
      ]
    },
    {
      "cell_type": "code",
      "metadata": {
        "colab": {
          "base_uri": "https://localhost:8080/",
          "height": 893
        },
        "id": "3MRyIWZgkZpt",
        "outputId": "02ee70ed-690d-461d-81b0-0c99dc7becaa"
      },
      "source": [
        "plt.figure(figsize=(17, 15))\n",
        "matrix = np.triu(df_varnumericas.corr())\n",
        "sns.heatmap(df_varnumericas.corr(), annot=True, mask=matrix,  cmap=\"YlGnBu\")"
      ],
      "execution_count": 106,
      "outputs": [
        {
          "output_type": "execute_result",
          "data": {
            "text/plain": [
              "<matplotlib.axes._subplots.AxesSubplot at 0x7efdb6916d50>"
            ]
          },
          "metadata": {
            "tags": []
          },
          "execution_count": 106
        },
        {
          "output_type": "display_data",
          "data": {
            "image/png": "[encoded data removed]",
            "text/plain": [
              "<Figure size 1224x1080 with 2 Axes>"
            ]
          },
          "metadata": {
            "tags": [],
            "needs_background": "light"
          }
        }
      ]
    },
    {
      "cell_type": "markdown",
      "metadata": {
        "id": "3t-uKTXckZpu"
      },
      "source": [
        "No observamos que exista variables altamente correlacionada.\n",
        "\n",
        "Además, deberemos verificar que su distrbución sea, o almenos aproximadamente, normal."
      ]
    },
    {
      "cell_type": "code",
      "metadata": {
        "scrolled": false,
        "colab": {
          "base_uri": "https://localhost:8080/",
          "height": 801
        },
        "id": "nPk4-_rikZpv",
        "outputId": "d8948761-145d-4304-c4e1-790be1389e57"
      },
      "source": [
        "\n",
        "fig=plt.figure(figsize=(20,12), facecolor='white')\n",
        "plt.suptitle('Histograma de las variables', weight='bold')\n",
        "\n",
        "gs=fig.add_gridspec(2,2)\n",
        "\n",
        "ax=[_ for i in range(4)]\n",
        "\n",
        "ax[0]=fig.add_subplot(gs[0,0])\n",
        "ax[1]=fig.add_subplot(gs[0,1])\n",
        "ax[2]=fig.add_subplot(gs[1,0])\n",
        "ax[3]=fig.add_subplot(gs[1,1])\n",
        "\n",
        "sns.histplot(x=\"d1\",data=df_varnumericas,ax=ax[0],shrink=0.5,bins=50,color=\"lightcoral\", kde=True)\n",
        "sns.histplot(x='d2', data=df_varnumericas,shrink=0.5,  bins=100, ax=ax[1])\n",
        "sns.histplot(x='d3', data=df_varnumericas,shrink=0.5,  bins=100, ax=ax[2])\n",
        "sns.histplot(x='d4',data=df_varnumericas,shrink=0.5,  bins=100, ax=ax[3], color='lightcoral')\n",
        "\n",
        "for i in range(4):\n",
        "    \n",
        "    ax[i].set_yticklabels('')\n",
        "    ax[i].set_ylabel('')\n",
        "    ax[i].tick_params('y',length=0)\n",
        "    \n",
        "    for direction in ['top','left','right']:\n",
        "        \n",
        "        ax[i].spines[direction].set_visible(False)"
      ],
      "execution_count": 107,
      "outputs": [
        {
          "output_type": "display_data",
          "data": {
            "image/png": "[encoded data removed]",
            "text/plain": [
              "<Figure size 1440x864 with 4 Axes>"
            ]
          },
          "metadata": {
            "tags": []
          }
        }
      ]
    },
    {
      "cell_type": "code",
      "metadata": {
        "colab": {
          "base_uri": "https://localhost:8080/",
          "height": 430
        },
        "id": "svQAe0H1mFJL",
        "outputId": "2049462a-cb5a-4a29-9d06-32c18bb2ddac"
      },
      "source": [
        "\n",
        "fig=plt.figure(figsize=(15,6), facecolor='white')\n",
        "plt.suptitle('Histograma de las variables', weight='bold')\n",
        "\n",
        "gs=fig.add_gridspec(1,2)\n",
        "\n",
        "ax=[_ for i in range(2)]\n",
        "\n",
        "ax[0]=fig.add_subplot(gs[0,0])\n",
        "ax[1]=fig.add_subplot(gs[0,1])\n",
        "\n",
        "\n",
        "sns.histplot(x=\"d5\",data=df_varnumericas,ax=ax[0],shrink=0.5,bins=50,color=\"lightcoral\", kde=True)\n",
        "sns.histplot(x='edad', data=df_varnumericas,shrink=0.5,  bins=100, ax=ax[1], kde=True)\n",
        "\n",
        "\n",
        "for i in range(2):\n",
        "    \n",
        "    ax[i].set_yticklabels('')\n",
        "    ax[i].set_ylabel('')\n",
        "    ax[i].tick_params('y',length=0)\n",
        "    \n",
        "    for direction in ['top','left','right']:\n",
        "        \n",
        "        ax[i].spines[direction].set_visible(False)"
      ],
      "execution_count": 108,
      "outputs": [
        {
          "output_type": "display_data",
          "data": {
            "image/png": "[encoded data removed]",
            "text/plain": [
              "<Figure size 1080x432 with 2 Axes>"
            ]
          },
          "metadata": {
            "tags": []
          }
        }
      ]
    },
    {
      "cell_type": "markdown",
      "metadata": {
        "id": "uoZOzlpGpdgM"
      },
      "source": [
        "##Variables Categoricas"
      ]
    },
    {
      "cell_type": "code",
      "metadata": {
        "id": "HGqqC3l2vEDF"
      },
      "source": [
        "df_varcategoricas=df_merged2[['id','educ','empleo','genero','estado_marital','facilidad_celular','fumo']]"
      ],
      "execution_count": 109,
      "outputs": []
    },
    {
      "cell_type": "code",
      "metadata": {
        "id": "VGymwU8mwZSJ"
      },
      "source": [
        "df_merged3 = df_merged2[['diagnostico_pro',\"d1\",  \"d2\", \"d3\", \"d4\",\"d5\", \"edad\", \"paquetes_por_dia\", \"anios_fumo\",'educ','empleo','genero','estado_marital','facilidad_celular','fumo']]\n",
        "#df_merged3['educ'].unique()\n",
        "#df_merged3['educ'].value_counts()\n",
        "#df_merged3['empleo'].value_counts()\n",
        "#df_merged3['genero'].value_counts()\n",
        "#df_merged3['estado_marital'].value_counts()\n",
        "#X['facilidad_celular'].value_counts()"
      ],
      "execution_count": 110,
      "outputs": []
    },
    {
      "cell_type": "code",
      "metadata": {
        "id": "u0m3Mf3fyIz_",
        "colab": {
          "base_uri": "https://localhost:8080/"
        },
        "outputId": "df7a1ef0-b43f-4dcf-bc3b-8cb7b1e3b462"
      },
      "source": [
        "X=df_merged3[[\"d1\",  \"d2\", \"d3\", \"d4\", \"d5\",  \"edad\", 'educ','empleo','genero','estado_marital','facilidad_celular','fumo']]\n",
        "X['educ'].replace(np.nan,'4-year college degree' ,inplace=True)\n",
        "X['empleo'].replace(np.nan,'Employment for wages' ,inplace=True)\n",
        "X['genero'].replace(np.nan, 2, inplace=True)\n",
        "X['estado_marital'].replace(np.nan,'Married or domestic partnership', inplace=True)\n",
        "X['facilidad_celular'].replace(np.nan,'Very easy', inplace=True)\n",
        "df_final=X\n",
        "print(X.isna().sum())"
      ],
      "execution_count": 111,
      "outputs": [
        {
          "output_type": "stream",
          "text": [
            "d1                   0\n",
            "d2                   0\n",
            "d3                   0\n",
            "d4                   0\n",
            "d5                   0\n",
            "edad                 0\n",
            "educ                 0\n",
            "empleo               0\n",
            "genero               0\n",
            "estado_marital       0\n",
            "facilidad_celular    0\n",
            "fumo                 0\n",
            "dtype: int64\n"
          ],
          "name": "stdout"
        },
        {
          "output_type": "stream",
          "text": [
            "/usr/local/lib/python3.7/dist-packages/pandas/core/series.py:4582: SettingWithCopyWarning: \n",
            "A value is trying to be set on a copy of a slice from a DataFrame\n",
            "\n",
            "See the caveats in the documentation: https://pandas.pydata.org/pandas-docs/stable/user_guide/indexing.html#returning-a-view-versus-a-copy\n",
            "  method=method,\n"
          ],
          "name": "stderr"
        }
      ]
    },
    {
      "cell_type": "markdown",
      "metadata": {
        "id": "7A6jD6IJkZp6"
      },
      "source": [
        "# Naive Bayes"
      ]
    },
    {
      "cell_type": "markdown",
      "metadata": {
        "id": "3vXKevJCkZp6"
      },
      "source": [
        "Naive Bayes es el algoritmo más sencillo y potente. A pesar de los significativos avances de Machine Learning en los últimos años, ha demostrado su valía. Se ha implementado con éxito en muchas aplicaciones, desde el análisis de texto hasta los motores de recomendación.Asume que el efecto de una caracteristica particular en una clase es indepentiente de las otras caracteristicas.\n",
        "\n",
        "En este momento ya tenemos separados los datos de “x” con “y”. Ahora es el momento de separar los datos de entrenamiento y prueba, para ello utilizamos la instrucción de train_test_split, la cual nos facilita bastante este procedimiento."
      ]
    },
    {
      "cell_type": "code",
      "metadata": {
        "id": "Qr4HMN41qEpV"
      },
      "source": [
        "# Encode categorical variables\n",
        "from sklearn.preprocessing import OrdinalEncoder # for encoding categorical features from strings to number arrays\n",
        "enc = OrdinalEncoder()\n",
        "X = enc.fit_transform(X)"
      ],
      "execution_count": 112,
      "outputs": []
    },
    {
      "cell_type": "code",
      "metadata": {
        "id": "Cnu-F92fzheX"
      },
      "source": [
        "y=df_merged3[['diagnostico_pro']].values"
      ],
      "execution_count": 113,
      "outputs": []
    },
    {
      "cell_type": "code",
      "metadata": {
        "id": "NOWcWGtZkZp6"
      },
      "source": [
        "from sklearn.model_selection import train_test_split\n",
        "#Separo los datos de \"train\" en entrenamiento y prueba para probar los algoritmos\n",
        "X_train, X_test, y_train, y_test = train_test_split(X, y, test_size=0.2, random_state=10)\n",
        "\n",
        "\n",
        "#best score 0.7970598104 with random_state =10\n",
        "#AQUI"
      ],
      "execution_count": 114,
      "outputs": []
    },
    {
      "cell_type": "markdown",
      "metadata": {
        "id": "ZkFUlEX3kZp6"
      },
      "source": [
        "Seguidamente definimos el algoritmo, en este caso le indicamos a nuestro programa, de sklearn.naive_bayes vamos a importar GaussianNB, con esto ya podemos implementar este algoritmo dentro de nuestro programa."
      ]
    },
    {
      "cell_type": "code",
      "metadata": {
        "id": "urhJVzpqkZp7"
      },
      "source": [
        "#Naive Bayes\n",
        "from sklearn.naive_bayes import GaussianNB\n",
        "algoritmo = GaussianNB()"
      ],
      "execution_count": 115,
      "outputs": []
    },
    {
      "cell_type": "markdown",
      "metadata": {
        "id": "4_CRZy3tkZp7"
      },
      "source": [
        "Por tal motivo entrenamos el modelo junto a los datos de entrenamiento."
      ]
    },
    {
      "cell_type": "code",
      "metadata": {
        "colab": {
          "base_uri": "https://localhost:8080/"
        },
        "id": "fJL0lF3lkZp7",
        "outputId": "2f2a31e6-582b-4c03-e26d-56253ccdcf41"
      },
      "source": [
        "#Entreno el modelo\n",
        "algoritmo.fit(X_train, y_train)"
      ],
      "execution_count": 116,
      "outputs": [
        {
          "output_type": "stream",
          "text": [
            "/usr/local/lib/python3.7/dist-packages/sklearn/naive_bayes.py:206: DataConversionWarning: A column-vector y was passed when a 1d array was expected. Please change the shape of y to (n_samples, ), for example using ravel().\n",
            "  y = column_or_1d(y, warn=True)\n"
          ],
          "name": "stderr"
        },
        {
          "output_type": "execute_result",
          "data": {
            "text/plain": [
              "GaussianNB(priors=None, var_smoothing=1e-09)"
            ]
          },
          "metadata": {
            "tags": []
          },
          "execution_count": 116
        }
      ]
    },
    {
      "cell_type": "markdown",
      "metadata": {
        "id": "iCzK6oZ_kZp7"
      },
      "source": [
        "Seguidamente realizamos una predicción junto a los datos de pruebas que separamos previamente.\n"
      ]
    },
    {
      "cell_type": "code",
      "metadata": {
        "id": "3dvrnNWBkZp7"
      },
      "source": [
        "#Realizo una predicción\n",
        "y_pred = algoritmo.predict(X_test)"
      ],
      "execution_count": 117,
      "outputs": []
    },
    {
      "cell_type": "markdown",
      "metadata": {
        "id": "zKvQY6mvkZp8"
      },
      "source": [
        "Verifiquemos como es el modelo utilizando las métricas de los problemas de clasificación, para ello vamos a obtener la matriz de confusión. Para esto importamos del modulo sklearn.metrics, confusion_matrix, y aplicamos esta instrucción junto a los datos de prueba y los obtenidos en la predicción realizada previamente."
      ]
    },
    {
      "cell_type": "code",
      "metadata": {
        "colab": {
          "base_uri": "https://localhost:8080/"
        },
        "id": "QwohbVWvkZp8",
        "outputId": "cf31dd6d-ce61-4c45-e911-02759006823b"
      },
      "source": [
        "#Verifico la matriz de Confusión\n",
        "from sklearn.metrics import confusion_matrix\n",
        "matriz = confusion_matrix(y_test, y_pred)\n",
        "print('Matriz de Confusión:')\n",
        "print(matriz)"
      ],
      "execution_count": 118,
      "outputs": [
        {
          "output_type": "stream",
          "text": [
            "Matriz de Confusión:\n",
            "[[219  43]\n",
            " [ 45 137]]\n"
          ],
          "name": "stdout"
        }
      ]
    },
    {
      "cell_type": "markdown",
      "metadata": {
        "id": "XxDepWZykZp8"
      },
      "source": [
        "Ahora veamos la precisión del mismo, para esto importamos precision_score del modulo sklearn.metrics y lo implementamos de igual forma junto a los datos de entrenamiento y los predichos."
      ]
    },
    {
      "cell_type": "code",
      "metadata": {
        "colab": {
          "base_uri": "https://localhost:8080/"
        },
        "id": "tFiDcq09kZp8",
        "outputId": "8ee0ffcb-1d60-434e-bb14-67211592da01"
      },
      "source": [
        "#Calculo la precisión del modelo\n",
        "from sklearn.metrics import precision_score\n",
        "precision = precision_score(y_test, y_pred)\n",
        "print('Precisión del modelo:')\n",
        "print(precision)"
      ],
      "execution_count": 119,
      "outputs": [
        {
          "output_type": "stream",
          "text": [
            "Precisión del modelo:\n",
            "0.7611111111111111\n"
          ],
          "name": "stdout"
        }
      ]
    },
    {
      "cell_type": "markdown",
      "metadata": {
        "id": "8Cd7tzNl6xFx"
      },
      "source": [
        "## Curva ROC para NAIVE BAYES"
      ]
    },
    {
      "cell_type": "code",
      "metadata": {
        "colab": {
          "base_uri": "https://localhost:8080/",
          "height": 394
        },
        "id": "0G3k1cGm6w2Z",
        "outputId": "d7f1fb46-5037-4dfa-9b7f-83e47d5592e0"
      },
      "source": [
        "plt.figure(figsize=(10, 6))\n",
        "\n",
        "from sklearn import metrics\n",
        "\n",
        "fpr, tpr, _ = metrics.roc_curve(y_test,  y_pred)\n",
        "auc = metrics.roc_auc_score(y_test, y_pred).round(10)\n",
        "\n",
        "# Graficamos la curva roc\n",
        "plt.plot(fpr,tpr,label=\"AUC=\"+str(round(auc,3)))\n",
        "#plt.xlabel('% Continuan', fontsize=14)\n",
        "#plt.ylabel('% Bajas', fontsize=14)\n",
        "plt.legend(loc=4, fontsize=12)\n",
        "\n",
        "# Graficamos la recta del azar\n",
        "it = [i/100 for i in range(100)]\n",
        "plt.plot(it,it,label=\"AZAR, AUC=0.5\",color=\"red\")\n",
        "\n",
        "plt.title(\"Curva ROC\", fontsize=14)\n",
        "plt.tick_params(labelsize=12);\n",
        "plt.show()"
      ],
      "execution_count": 120,
      "outputs": [
        {
          "output_type": "display_data",
          "data": {
            "image/png": "[encoded data removed]",
            "text/plain": [
              "<Figure size 720x432 with 1 Axes>"
            ]
          },
          "metadata": {
            "tags": [],
            "needs_background": "light"
          }
        }
      ]
    },
    {
      "cell_type": "code",
      "metadata": {
        "colab": {
          "base_uri": "https://localhost:8080/"
        },
        "id": "lEpps7Y__aGb",
        "outputId": "f24cee13-2021-4404-feb8-58c13b461616"
      },
      "source": [
        "print(auc)"
      ],
      "execution_count": 121,
      "outputs": [
        {
          "output_type": "stream",
          "text": [
            "0.7943125577\n"
          ],
          "name": "stdout"
        }
      ]
    },
    {
      "cell_type": "markdown",
      "metadata": {
        "id": "-ncug4REkZpv"
      },
      "source": [
        "# Regresion Logística"
      ]
    },
    {
      "cell_type": "markdown",
      "metadata": {
        "id": "9ZVku5vckZpw"
      },
      "source": [
        "Seleccionemos algunas características para el modelado. También cambiamos el tipo de datos de destino para que sea entero, ya que es un requisito del algoritmo skitlearn:"
      ]
    },
    {
      "cell_type": "markdown",
      "metadata": {
        "id": "UcxsjSo4kZpx"
      },
      "source": [
        "\n",
        "Definamos X e y para nuestro conjunto de datos:"
      ]
    },
    {
      "cell_type": "code",
      "metadata": {
        "id": "fYy970JUkZpx"
      },
      "source": [
        "X=df_final[[\"d1\",\"d2\",\"d3\",\"d4\",\"d5\",\"edad\"]]\n",
        "X = np.asarray(X)"
      ],
      "execution_count": 122,
      "outputs": []
    },
    {
      "cell_type": "code",
      "metadata": {
        "colab": {
          "base_uri": "https://localhost:8080/"
        },
        "id": "_fehhJytkZpy",
        "outputId": "6991f9de-6a38-4310-9f29-24a8de2677ad"
      },
      "source": [
        "y = np.asarray(df_merged2[\"diagnostico_pro\"])\n",
        "y [0:6]"
      ],
      "execution_count": 123,
      "outputs": [
        {
          "output_type": "execute_result",
          "data": {
            "text/plain": [
              "array([0., 1., 1., 1., 0., 1.])"
            ]
          },
          "metadata": {
            "tags": []
          },
          "execution_count": 123
        }
      ]
    },
    {
      "cell_type": "markdown",
      "metadata": {
        "id": "WEelAJX3kZpz"
      },
      "source": [
        "## Normalizamos el conjunto de datos:"
      ]
    },
    {
      "cell_type": "code",
      "metadata": {
        "colab": {
          "base_uri": "https://localhost:8080/"
        },
        "id": "-i0QUJLWkZpz",
        "outputId": "82106e97-7e4f-4cd0-92df-c768b88a5477"
      },
      "source": [
        "from sklearn import preprocessing\n",
        "X = preprocessing.StandardScaler().fit(X).transform(X)\n",
        "X[0:5]"
      ],
      "execution_count": 124,
      "outputs": [
        {
          "output_type": "execute_result",
          "data": {
            "text/plain": [
              "array([[ 0.37, -1.74,  0.59,  0.51,  1.34,  1.33],\n",
              "       [-0.5 ,  0.75,  1.72,  0.52, -0.6 ,  0.52],\n",
              "       [ 0.54,  0.75, -1.39,  1.66, -0.72,  1.25],\n",
              "       [-0.19, -2.69,  0.9 , -0.22,  2.21,  0.03],\n",
              "       [-0.71,  0.46,  1.5 ,  0.27, -0.51, -0.62]])"
            ]
          },
          "metadata": {
            "tags": []
          },
          "execution_count": 124
        }
      ]
    },
    {
      "cell_type": "markdown",
      "metadata": {
        "id": "oBRM3ab5kZpz"
      },
      "source": [
        "## Conjunto de datos de entrenamiento / prueba\n",
        "\n",
        "Definido “X” y “y” ya podemos realizar la separación correspondiente a los datos de prueba y entrenamiento para ello importamos la respectiva librería y procedemos a utilizar train_test_split para separar los datos."
      ]
    },
    {
      "cell_type": "code",
      "metadata": {
        "id": "rpHVV3F6kZp0"
      },
      "source": [
        "from sklearn.model_selection import train_test_split"
      ],
      "execution_count": 125,
      "outputs": []
    },
    {
      "cell_type": "markdown",
      "metadata": {
        "id": "_EY6ljn5kZp0"
      },
      "source": [
        "Para la separación de los datos, vamos a tomar un 20% de los mismos para utilizarlos como prueba una vez que hayamos obtenido el modelo."
      ]
    },
    {
      "cell_type": "code",
      "metadata": {
        "id": "gNvOkuYMkZp0",
        "colab": {
          "base_uri": "https://localhost:8080/"
        },
        "outputId": "316fb6f0-50b0-4b29-fc23-0f8b237fe8ec"
      },
      "source": [
        "X_train, X_test, y_train, y_test = train_test_split( X, y, test_size=0.2, random_state=11)\n",
        "print ('Train set:', X_train.shape,  y_train.shape)\n",
        "print ('Test set:', X_test.shape,  y_test.shape)"
      ],
      "execution_count": 126,
      "outputs": [
        {
          "output_type": "stream",
          "text": [
            "Train set: (1774, 6) (1774,)\n",
            "Test set: (444, 6) (444,)\n"
          ],
          "name": "stdout"
        }
      ]
    },
    {
      "cell_type": "markdown",
      "metadata": {
        "id": "ThpWjGArkZp1"
      },
      "source": [
        "## Modelado (regresión logística con Scikit-learn)"
      ]
    },
    {
      "cell_type": "markdown",
      "metadata": {
        "id": "LfKlRb2akZp1"
      },
      "source": [
        "La versión de Regresión logística en Scikit-learn, admite regularización. La regularización es una técnica utilizada para resolver el problema de sobreajuste en modelos de aprendizaje automático. El parámetro C indica el inverso de la fuerza de regularización, que debe ser un valor flotante positivo. Los valores más pequeños especifican una regularización más fuerte. Ahora ajustemos nuestro modelo con el set de entrenamiento:"
      ]
    },
    {
      "cell_type": "code",
      "metadata": {
        "id": "Y2PVcexRkZp1",
        "colab": {
          "base_uri": "https://localhost:8080/"
        },
        "outputId": "f65f9a82-b5fc-4e8e-cc2e-f86717969e1f"
      },
      "source": [
        "from sklearn.linear_model import LogisticRegression\n",
        "from sklearn.metrics import confusion_matrix\n",
        "LR = LogisticRegression(C=0.01, solver='liblinear').fit(X_train,y_train)\n",
        "print(LR)"
      ],
      "execution_count": 127,
      "outputs": [
        {
          "output_type": "stream",
          "text": [
            "LogisticRegression(C=0.01, class_weight=None, dual=False, fit_intercept=True,\n",
            "                   intercept_scaling=1, l1_ratio=None, max_iter=100,\n",
            "                   multi_class='auto', n_jobs=None, penalty='l2',\n",
            "                   random_state=None, solver='liblinear', tol=0.0001, verbose=0,\n",
            "                   warm_start=False)\n"
          ],
          "name": "stdout"
        }
      ]
    },
    {
      "cell_type": "code",
      "metadata": {
        "scrolled": true,
        "id": "DfuGVpN5kZp1",
        "colab": {
          "base_uri": "https://localhost:8080/"
        },
        "outputId": "ab5e87e3-f8a7-4d7a-fc72-bf9425d0fce8"
      },
      "source": [
        "yhat = LR.predict(X_test)\n",
        "yhat"
      ],
      "execution_count": 128,
      "outputs": [
        {
          "output_type": "execute_result",
          "data": {
            "text/plain": [
              "array([0., 0., 0., 0., 1., 0., 0., 0., 1., 0., 0., 1., 0., 0., 0., 1., 1.,\n",
              "       0., 0., 0., 1., 1., 0., 0., 0., 0., 1., 0., 1., 0., 0., 1., 0., 1.,\n",
              "       1., 0., 0., 1., 1., 0., 0., 1., 0., 0., 1., 0., 1., 0., 0., 0., 1.,\n",
              "       0., 0., 1., 0., 0., 0., 0., 1., 0., 0., 0., 1., 0., 0., 0., 1., 1.,\n",
              "       0., 1., 1., 0., 0., 0., 1., 0., 0., 0., 0., 1., 1., 0., 1., 0., 1.,\n",
              "       0., 0., 0., 0., 1., 0., 1., 0., 0., 0., 0., 1., 0., 0., 0., 1., 1.,\n",
              "       0., 1., 1., 0., 0., 0., 0., 1., 0., 1., 1., 0., 0., 0., 0., 0., 0.,\n",
              "       1., 1., 0., 0., 0., 1., 1., 1., 0., 0., 0., 0., 0., 0., 0., 0., 1.,\n",
              "       1., 1., 0., 1., 1., 0., 0., 0., 0., 0., 0., 1., 1., 0., 0., 0., 1.,\n",
              "       0., 1., 0., 0., 0., 1., 1., 0., 1., 0., 0., 1., 0., 0., 0., 0., 0.,\n",
              "       1., 0., 1., 0., 0., 1., 1., 0., 0., 1., 1., 1., 1., 1., 1., 0., 0.,\n",
              "       1., 0., 0., 0., 1., 1., 1., 0., 1., 0., 1., 1., 0., 0., 0., 1., 1.,\n",
              "       0., 0., 1., 0., 1., 0., 1., 1., 0., 0., 0., 0., 1., 0., 1., 1., 1.,\n",
              "       1., 1., 0., 0., 0., 1., 0., 1., 0., 1., 1., 1., 0., 0., 0., 1., 0.,\n",
              "       0., 0., 0., 0., 0., 1., 0., 0., 0., 0., 1., 0., 0., 0., 0., 1., 0.,\n",
              "       0., 1., 1., 1., 1., 0., 1., 1., 0., 0., 1., 0., 1., 1., 1., 0., 0.,\n",
              "       0., 0., 1., 0., 1., 1., 0., 1., 0., 0., 0., 1., 1., 1., 0., 1., 1.,\n",
              "       0., 1., 0., 0., 0., 0., 1., 0., 0., 1., 0., 1., 0., 1., 1., 1., 0.,\n",
              "       1., 1., 0., 0., 0., 0., 0., 0., 0., 1., 0., 1., 0., 0., 0., 1., 0.,\n",
              "       1., 0., 0., 1., 1., 1., 0., 1., 0., 1., 1., 1., 0., 1., 0., 0., 0.,\n",
              "       1., 0., 1., 1., 1., 0., 1., 1., 0., 0., 1., 1., 1., 0., 0., 0., 1.,\n",
              "       1., 0., 1., 0., 0., 0., 1., 1., 0., 1., 0., 1., 1., 1., 0., 0., 1.,\n",
              "       0., 1., 1., 0., 0., 0., 1., 0., 1., 0., 0., 0., 0., 1., 1., 1., 0.,\n",
              "       0., 0., 0., 0., 1., 0., 1., 1., 0., 0., 0., 1., 0., 1., 0., 0., 0.,\n",
              "       1., 0., 1., 1., 0., 0., 1., 0., 0., 1., 0., 1., 1., 1., 0., 0., 1.,\n",
              "       0., 0., 1., 0., 1., 0., 1., 0., 1., 1., 1., 1., 0., 0., 0., 0., 0.,\n",
              "       0., 1.])"
            ]
          },
          "metadata": {
            "tags": []
          },
          "execution_count": 128
        }
      ]
    },
    {
      "cell_type": "markdown",
      "metadata": {
        "id": "WPdsZL41kZp2"
      },
      "source": [
        "Y finalmente realizamos una predicción, utilizando la instrucción predict y los datos de prueba."
      ]
    },
    {
      "cell_type": "code",
      "metadata": {
        "id": "MHGqzSoAkZp2"
      },
      "source": [
        "yhat_prob = LR.predict_proba(X_test)"
      ],
      "execution_count": 129,
      "outputs": []
    },
    {
      "cell_type": "markdown",
      "metadata": {
        "id": "tR7-HHDAkZp2"
      },
      "source": [
        "## Evaluación"
      ]
    },
    {
      "cell_type": "markdown",
      "metadata": {
        "id": "Yh0Yt8ujkZp2"
      },
      "source": [
        "Probemos el índice jaccard para evaluar la precisión. podemos definir jaccard como el tamaño de la intersección dividido por el tamaño de la unión de dos conjuntos de etiquetas. Si todo el conjunto de etiquetas predichas para una muestra coincide estrictamente con el conjunto verdadero de etiquetas, entonces la precisión del subconjunto es 1.0; de lo contrario, es 0.0."
      ]
    },
    {
      "cell_type": "code",
      "metadata": {
        "id": "LwxPYJurkZp3",
        "colab": {
          "base_uri": "https://localhost:8080/"
        },
        "outputId": "f2dfaf1a-9f54-4bc3-f962-6f951005b00d"
      },
      "source": [
        "from sklearn.metrics import jaccard_score\n",
        "jaccard_score(y_test, yhat)"
      ],
      "execution_count": 130,
      "outputs": [
        {
          "output_type": "execute_result",
          "data": {
            "text/plain": [
              "0.5641025641025641"
            ]
          },
          "metadata": {
            "tags": []
          },
          "execution_count": 130
        }
      ]
    },
    {
      "cell_type": "markdown",
      "metadata": {
        "id": "u7Qs3RDhkZp3"
      },
      "source": [
        "## Matriz de Confusion"
      ]
    },
    {
      "cell_type": "markdown",
      "metadata": {
        "id": "qjjIhBMfkZp3"
      },
      "source": [
        "Otra forma de ver la precisión del clasificador es mirar la matriz de confusión."
      ]
    },
    {
      "cell_type": "code",
      "metadata": {
        "scrolled": true,
        "id": "Efl9zC8kkZp3",
        "colab": {
          "base_uri": "https://localhost:8080/"
        },
        "outputId": "bcad9e03-bcfd-4678-bc15-9fae63e1621f"
      },
      "source": [
        "from sklearn.metrics import classification_report, confusion_matrix\n",
        "import itertools\n",
        "def plot_confusion_matrix(cm, classes,\n",
        "                          normalize=False,\n",
        "                          title='Confusion matrix',\n",
        "                          cmap=plt.cm.Blues):\n",
        "   \n",
        "    plt.imshow(cm, interpolation='nearest', cmap=cmap)\n",
        "    plt.title(title)\n",
        "    plt.colorbar()\n",
        "    tick_marks = np.arange(len(classes))\n",
        "    plt.xticks(tick_marks, classes, rotation=45)\n",
        "    plt.yticks(tick_marks, classes)\n",
        "\n",
        "    fmt = '.2f' if normalize else 'd'\n",
        "    thresh = cm.max() / 2.\n",
        "    for i, j in itertools.product(range(cm.shape[0]), range(cm.shape[1])):\n",
        "        plt.text(j, i, format(cm[i, j], fmt),\n",
        "                 horizontalalignment=\"center\",\n",
        "#                 VerticalAlignment=\"center\",\n",
        "                 color=\"grey\" if cm[i, j] > thresh else \"black\")\n",
        "\n",
        "    plt.tight_layout()\n",
        "    plt.ylabel('True label')\n",
        "    plt.xlabel('Predicted label')\n",
        "    plt.show()\n",
        "print(confusion_matrix(y_test, yhat, labels=[1,0]))"
      ],
      "execution_count": 131,
      "outputs": [
        {
          "output_type": "stream",
          "text": [
            "[[132  50]\n",
            " [ 52 210]]\n"
          ],
          "name": "stdout"
        }
      ]
    },
    {
      "cell_type": "code",
      "metadata": {
        "id": "kBaRB0vxkZp4",
        "colab": {
          "base_uri": "https://localhost:8080/",
          "height": 310
        },
        "outputId": "65f08f92-c4ce-47c4-b135-d3e2ab35c3fc"
      },
      "source": [
        "# Compute confusion matrix\n",
        "cnf_matrix = confusion_matrix(y_test, yhat, labels=[1,0])\n",
        "np.set_printoptions(precision=2)\n",
        "\n",
        "\n",
        "# Plot non-normalized confusion matrix\n",
        "plt.figure()\n",
        "plot_confusion_matrix(cnf_matrix, classes=['churn=1','churn=0'],normalize= False,  title='Confusion matrix')"
      ],
      "execution_count": 132,
      "outputs": [
        {
          "output_type": "display_data",
          "data": {
            "image/png": "[encoded data removed]",
            "text/plain": [
              "<Figure size 432x288 with 2 Axes>"
            ]
          },
          "metadata": {
            "tags": [],
            "needs_background": "light"
          }
        }
      ]
    },
    {
      "cell_type": "code",
      "metadata": {
        "id": "C83tlQGukZp4",
        "colab": {
          "base_uri": "https://localhost:8080/"
        },
        "outputId": "28abc3f0-7a0e-4ebd-89a7-afa87523e591"
      },
      "source": [
        "print (classification_report(y_test, yhat))"
      ],
      "execution_count": 133,
      "outputs": [
        {
          "output_type": "stream",
          "text": [
            "              precision    recall  f1-score   support\n",
            "\n",
            "         0.0       0.81      0.80      0.80       262\n",
            "         1.0       0.72      0.73      0.72       182\n",
            "\n",
            "    accuracy                           0.77       444\n",
            "   macro avg       0.76      0.76      0.76       444\n",
            "weighted avg       0.77      0.77      0.77       444\n",
            "\n"
          ],
          "name": "stdout"
        }
      ]
    },
    {
      "cell_type": "markdown",
      "metadata": {
        "id": "8vUJOYXxkZp5"
      },
      "source": [
        "Basándonos en el recuento de cada sección, podemos calcular la precisión y la recuperación de cada etiqueta:\n",
        "\n",
        "La precisión es una medida de la precisión siempre que se haya predicho una etiqueta de clase. Está definido por: precisión = TP / (TP + FP)\n",
        "\n",
        "El recuerdo es una verdadera tasa positiva. Se define como: Recuperación = TP / (TP + FN)\n",
        "\n",
        "Entonces, podemos calcular la precisión y la recuperación de cada clase.\n",
        "\n",
        "Puntaje F1: ahora estamos en condiciones de calcular los puntajes F1 para cada etiqueta en función de la precisión y el recuerdo de esa etiqueta.\n",
        "\n",
        "La puntuación F1 es el promedio armónico de la precisión y la recuperación, donde una puntuación F1 alcanza su mejor valor en 1 (precisión y recuperación perfecta) y el peor en 0. Es una buena forma de demostrar que un clasificador tiene un buen valor para ambos recuerdo y precisión.\n",
        "\n",
        "Y finalmente, podemos decir que la precisión promedio para este clasificador es el promedio de la puntuación F1 para ambas etiquetas, que es 0,72 en nuestro caso."
      ]
    },
    {
      "cell_type": "markdown",
      "metadata": {
        "id": "RlbL9xjqkZp5"
      },
      "source": [
        "## log loss - pérdida de registro"
      ]
    },
    {
      "cell_type": "markdown",
      "metadata": {
        "id": "xRufRbzbkZp5"
      },
      "source": [
        "Ahora, intentemos la \"\"log loss\"\" de registros para su evaluación. En la regresión logística, el resultado puede ser que la probabilidad de que el diagnostico sea sí (o igual a 1). Esta probabilidad es un valor entre 0 y 1. La log loss (pérdida logarítmica) mide el rendimiento de un clasificador donde la salida prevista es un valor de probabilidad entre 0 y 1."
      ]
    },
    {
      "cell_type": "code",
      "metadata": {
        "id": "RR3srjJikZp5",
        "colab": {
          "base_uri": "https://localhost:8080/"
        },
        "outputId": "36106eb5-f08a-4a9f-9aee-238fd8953d29"
      },
      "source": [
        "from sklearn.metrics import log_loss\n",
        "log_loss(y_test, yhat_prob).round(2)"
      ],
      "execution_count": 134,
      "outputs": [
        {
          "output_type": "execute_result",
          "data": {
            "text/plain": [
              "0.52"
            ]
          },
          "metadata": {
            "tags": []
          },
          "execution_count": 134
        }
      ]
    },
    {
      "cell_type": "markdown",
      "metadata": {
        "id": "B7HytfQkuFIk"
      },
      "source": [
        ""
      ]
    },
    {
      "cell_type": "markdown",
      "metadata": {
        "id": "g8413WBbuFai"
      },
      "source": [
        "## Curva ROC para la Regresion Logistica"
      ]
    },
    {
      "cell_type": "code",
      "metadata": {
        "id": "5ERLCEf2kZp6",
        "colab": {
          "base_uri": "https://localhost:8080/"
        },
        "outputId": "b3597d16-4655-4dfb-c3d3-68ce384073e8"
      },
      "source": [
        "from sklearn.metrics import roc_auc_score\n",
        "roc_auc = roc_auc_score(y_test, yhat)\n",
        "print('Curva ROC - AUC del modelo:')\n",
        "print(roc_auc)"
      ],
      "execution_count": 135,
      "outputs": [
        {
          "output_type": "stream",
          "text": [
            "Curva ROC - AUC del modelo:\n",
            "0.7634007214159886\n"
          ],
          "name": "stdout"
        }
      ]
    },
    {
      "cell_type": "code",
      "metadata": {
        "colab": {
          "base_uri": "https://localhost:8080/",
          "height": 394
        },
        "id": "IsfmKapqt3oc",
        "outputId": "8cf30013-0abe-4ea6-bf41-8c6af3829c49"
      },
      "source": [
        "plt.figure(figsize=(10, 6))\n",
        "\n",
        "fpr, tpr, _ = metrics.roc_curve(y_test,  yhat)\n",
        "auc = metrics.roc_auc_score(y_test, yhat).round(10)\n",
        "\n",
        "# Graficamos la curva roc\n",
        "plt.plot(fpr,tpr,label=\"AUC=\"+str(round(auc,3)))\n",
        "plt.legend(loc=4, fontsize=12)\n",
        "\n",
        "# Graficamos la recta del azar\n",
        "it = [i/100 for i in range(100)]\n",
        "plt.plot(it,it,label=\"AZAR, AUC=0.5\",color=\"red\")\n",
        "plt.legend(loc=4, fontsize=12)\n",
        "\n",
        "plt.title(\"Curva ROC\", fontsize=14)\n",
        "plt.tick_params(labelsize=12);\n",
        "plt.show()"
      ],
      "execution_count": 136,
      "outputs": [
        {
          "output_type": "display_data",
          "data": {
            "image/png": "[encoded data removed]",
            "text/plain": [
              "<Figure size 720x432 with 1 Axes>"
            ]
          },
          "metadata": {
            "tags": [],
            "needs_background": "light"
          }
        }
      ]
    }
  ]
}